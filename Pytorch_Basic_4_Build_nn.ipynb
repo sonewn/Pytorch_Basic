{
  "nbformat": 4,
  "nbformat_minor": 0,
  "metadata": {
    "colab": {
      "name": "Pytorch_Basic_4_Build_nn.ipynb",
      "provenance": []
    },
    "kernelspec": {
      "name": "python3",
      "display_name": "Python 3"
    },
    "language_info": {
      "name": "python"
    },
    "accelerator": "GPU"
  },
  "cells": [
    {
      "cell_type": "markdown",
      "source": [
        "# 4. Build the Neural Network\n",
        "\n",
        "신경망은 데이터에 대한 연산을 수행하는 `계층(layer)`/`모듈(module)`로 구성되어 있습니다. <br><br>\n",
        "\n",
        "* `torch.nn` 네임스페이스는 신경망을 구성하는데 필요한 모든 구성 요소를 제공합니다.\n",
        "* PyTorch의 모든 모듈은 `nn.Module` 의 **하위 클래스(subclass)** 입니다. \n",
        "* 신경망은 다른 모듈(계층; layer)로 구성된 모듈입니다. \n",
        ">이러한 중첩된 구조는 복잡한 아키텍처를 쉽게 구축하고 관리할 수 있습니다.\n",
        "\n"
      ],
      "metadata": {
        "id": "g96ZqgMN9T19"
      }
    },
    {
      "cell_type": "code",
      "execution_count": 1,
      "metadata": {
        "id": "nEICxLAa9KFU"
      },
      "outputs": [],
      "source": [
        "import os, torch\n",
        "from torch import nn\n",
        "from torch.utils.data import DataLoader\n",
        "from torchvision import datasets, transforms"
      ]
    },
    {
      "cell_type": "markdown",
      "source": [
        "## 4.1 Get device for training\n",
        "\n",
        "가능한 경우 GPU와 같은 하드웨어 가속기에서 모델을 학습하려고 합니다. `torch.cuda` 를 사용할 수 있는지 확인하고 그렇지 않으면 CPU를 계속 사용합니다."
      ],
      "metadata": {
        "id": "5tD19FHz_zRW"
      }
    },
    {
      "cell_type": "code",
      "source": [
        "device = \"cuda\" if torch.cuda.is_available() else \"cpu\"\n",
        "print(f\"Using {device} device\")"
      ],
      "metadata": {
        "colab": {
          "base_uri": "https://localhost:8080/"
        },
        "id": "RlBlm17n_sV2",
        "outputId": "20673e6a-7df9-4559-a0fa-049e1d0a2f0f"
      },
      "execution_count": 2,
      "outputs": [
        {
          "output_type": "stream",
          "name": "stdout",
          "text": [
            "Using cuda device\n"
          ]
        }
      ]
    },
    {
      "cell_type": "markdown",
      "source": [
        "## 4.2 Define the class\n",
        "\n",
        "신경망 모델을 `nn.Module` 의 하위클래스로 정의하고, `__init__` 에서 신경망 계층들을 초기화합니다. <br>\n",
        "`nn.Module` 을 상속받은 모든 클래스는 `forward` 메소드에 **입력 데이터에 대한 연산**들을 구현합니다."
      ],
      "metadata": {
        "id": "nmtCuzMVBAvE"
      }
    },
    {
      "cell_type": "code",
      "source": [
        "class NeuralNetwork(nn.Module):\n",
        "  def __init__(self):\n",
        "    super(NeuralNetwork, self).__init__()\n",
        "    self.flatten = nn.Flatten()\n",
        "    self.linear_relu_stack = nn.Sequential(\n",
        "        nn.Linear(28*28, 512),\n",
        "        nn.ReLU(),\n",
        "        nn.Linear(512, 512),\n",
        "        nn.ReLU(),\n",
        "        nn.Linear(512, 10),\n",
        "    )\n",
        "  \n",
        "  def forward(self, x):\n",
        "    x = self.flatten(x)\n",
        "    logits = self.linear_relu_stack(x)\n",
        "    return logits"
      ],
      "metadata": {
        "id": "pFInQ20vAspk"
      },
      "execution_count": 3,
      "outputs": []
    },
    {
      "cell_type": "markdown",
      "source": [
        "`NeuralNetwork` 의 인스턴스(instance)를 생성하고 이를 `device` 로 이동한 뒤, 구조(structure)를 출력합니다.\n",
        "\n"
      ],
      "metadata": {
        "id": "nEo7w0fZDr2_"
      }
    },
    {
      "cell_type": "code",
      "source": [
        "model = NeuralNetwork().to(device)\n",
        "print(model)"
      ],
      "metadata": {
        "colab": {
          "base_uri": "https://localhost:8080/"
        },
        "id": "nvfeZgelDsgO",
        "outputId": "bfeec111-a341-4cb9-8e55-56a657c758ae"
      },
      "execution_count": 5,
      "outputs": [
        {
          "output_type": "stream",
          "name": "stdout",
          "text": [
            "NeuralNetwork(\n",
            "  (flatten): Flatten(start_dim=1, end_dim=-1)\n",
            "  (linear_relu_stack): Sequential(\n",
            "    (0): Linear(in_features=784, out_features=512, bias=True)\n",
            "    (1): ReLU()\n",
            "    (2): Linear(in_features=512, out_features=512, bias=True)\n",
            "    (3): ReLU()\n",
            "    (4): Linear(in_features=512, out_features=10, bias=True)\n",
            "  )\n",
            ")\n"
          ]
        }
      ]
    },
    {
      "cell_type": "markdown",
      "source": [
        "* 모델을 사용하기 위해 입력 데이터를 전달합니다. 이는 일부 ***백그라운드 연산*** 들 과 함께 모델의 `forward` 를 실행합니다. <br>\n",
        "model.forward() 를 직접 호출하지 마세요!\n",
        "\n",
        "* 모델에 입력을 호출하면 각 분류(class)에 대한 raw 예측값이 있는 10-차원 텐서가 반환됩니다. <br>\n",
        "원시 예측값을 `nn.Softmax` 모듈의 인스턴스에 통과시켜 **예측 확률**을 얻습니다."
      ],
      "metadata": {
        "id": "a1pzfILWFmFG"
      }
    },
    {
      "cell_type": "code",
      "source": [
        "# 임의의 input data 생성\n",
        "X = torch.rand(1, 28, 28, device=device)\n",
        "print(X.size())"
      ],
      "metadata": {
        "colab": {
          "base_uri": "https://localhost:8080/"
        },
        "id": "QujXY-sHGMve",
        "outputId": "abf53671-fc92-4001-df9a-f807d4839943"
      },
      "execution_count": 7,
      "outputs": [
        {
          "output_type": "stream",
          "name": "stdout",
          "text": [
            "torch.Size([1, 28, 28])\n"
          ]
        }
      ]
    },
    {
      "cell_type": "code",
      "source": [
        "# 모델 예측값 확인 --> 정답 class가 10개 이기 때문에 size=10\n",
        "logits = model(X)\n",
        "print(logits.size())\n",
        "print(logits)"
      ],
      "metadata": {
        "colab": {
          "base_uri": "https://localhost:8080/"
        },
        "id": "oBQQW_T7G2Ga",
        "outputId": "c55720d8-8669-4885-80dd-e6f33f366dee"
      },
      "execution_count": 9,
      "outputs": [
        {
          "output_type": "stream",
          "name": "stdout",
          "text": [
            "torch.Size([1, 10])\n",
            "tensor([[ 0.0409, -0.0656, -0.0115,  0.0100,  0.0104,  0.0456,  0.0821, -0.0063,\n",
            "         -0.0431, -0.0502]], device='cuda:0', grad_fn=<AddmmBackward0>)\n"
          ]
        }
      ]
    },
    {
      "cell_type": "code",
      "source": [
        "# nn.Softmax 에 통과시켜 0~1 값으로 scaling\n",
        "pred_probab = nn.Softmax(dim=1)(logits)\n",
        "print(pred_probab)"
      ],
      "metadata": {
        "colab": {
          "base_uri": "https://localhost:8080/"
        },
        "id": "AVq5_UnBFUQx",
        "outputId": "ae948087-3988-450d-ca83-0a711d1d889e"
      },
      "execution_count": 10,
      "outputs": [
        {
          "output_type": "stream",
          "name": "stdout",
          "text": [
            "tensor([[0.1039, 0.0934, 0.0986, 0.1008, 0.1008, 0.1044, 0.1083, 0.0992, 0.0956,\n",
            "         0.0949]], device='cuda:0', grad_fn=<SoftmaxBackward0>)\n"
          ]
        }
      ]
    },
    {
      "cell_type": "code",
      "source": [
        "# 가장 높은 확률의 예측 class를 armax(1)로 얻는다\n",
        "y_pred = pred_probab.argmax(1)\n",
        "\n",
        "print(f\"Predicted class: {y_pred}\")"
      ],
      "metadata": {
        "colab": {
          "base_uri": "https://localhost:8080/"
        },
        "id": "W0NHjS1AHPsj",
        "outputId": "eb5e880b-5d3f-4a96-8b49-8e4b9bc94222"
      },
      "execution_count": 11,
      "outputs": [
        {
          "output_type": "stream",
          "name": "stdout",
          "text": [
            "Predicted class: tensor([6], device='cuda:0')\n"
          ]
        }
      ]
    },
    {
      "cell_type": "markdown",
      "source": [
        "## 4.3 Model Layers\n",
        "\n",
        "FashionMNIST 모델의 계층들을 살펴보겠습니다. <br>\n",
        "**28x28** 크기의 이미지 **3개**로 구성된 **미니배치**를 가져와, 신경망을 통과할 때 어떤 일이 발생하는지 알아보겠습니다."
      ],
      "metadata": {
        "id": "5u5akneNHz79"
      }
    },
    {
      "cell_type": "code",
      "source": [
        "input_image = torch.rand(3, 28, 28)\n",
        "print(input_image.size())"
      ],
      "metadata": {
        "colab": {
          "base_uri": "https://localhost:8080/"
        },
        "id": "O1PMz98gHhDj",
        "outputId": "cac87189-0ce3-41f2-e52a-cfcfcd859610"
      },
      "execution_count": 12,
      "outputs": [
        {
          "output_type": "stream",
          "name": "stdout",
          "text": [
            "torch.Size([3, 28, 28])\n"
          ]
        }
      ]
    },
    {
      "cell_type": "markdown",
      "source": [
        "### nn.Flatten\n",
        "\n",
        "`nn.Flatten` 계층을 초기화하여 각 **28x28의 2D 이미지**를 **784 픽셀 값을 갖는 연속된 배열**로 변환합니다. (dim=0의 미니배치 차원은 유지됩니다.)"
      ],
      "metadata": {
        "id": "FbDHzN5wKhRC"
      }
    },
    {
      "cell_type": "code",
      "source": [
        "# Flatten 계층에 입력하면, 28*28 -> 784 로 차원 변환된 배열이 3개\n",
        "\n",
        "flatten = nn.Flatten()\n",
        "flat_image = flatten(input_image)\n",
        "print(flat_image.size())"
      ],
      "metadata": {
        "colab": {
          "base_uri": "https://localhost:8080/"
        },
        "id": "N-pMnmgpKeTT",
        "outputId": "41148377-c2a5-4992-b68b-6887431898eb"
      },
      "execution_count": 14,
      "outputs": [
        {
          "output_type": "stream",
          "name": "stdout",
          "text": [
            "torch.Size([3, 784])\n"
          ]
        }
      ]
    },
    {
      "cell_type": "markdown",
      "source": [
        "### nn.Linear<br>\n",
        "\n",
        "**선형 계층**은 저장된 가중치(`weight`)와 편향(`bias`)을 사용하여 입력에 `선형 변환(linear transformation)`을 적용하는 모듈입니다."
      ],
      "metadata": {
        "id": "qgUBXFtmMgEE"
      }
    },
    {
      "cell_type": "code",
      "source": [
        "# out_features 20 으로 linear transformation 됨을 확인\n",
        "\n",
        "layer1 = nn.Linear(in_features=28*28, out_features=20)\n",
        "hidden1 = layer1(flat_image)\n",
        "print(hidden1.size())"
      ],
      "metadata": {
        "colab": {
          "base_uri": "https://localhost:8080/"
        },
        "id": "CCWQ7U1ONQzw",
        "outputId": "ebe31088-fc1d-47eb-e52e-b2bd9dec6f0c"
      },
      "execution_count": 15,
      "outputs": [
        {
          "output_type": "stream",
          "name": "stdout",
          "text": [
            "torch.Size([3, 20])\n"
          ]
        }
      ]
    },
    {
      "cell_type": "code",
      "source": [
        "print(hidden1)"
      ],
      "metadata": {
        "colab": {
          "base_uri": "https://localhost:8080/"
        },
        "id": "m7H4s-1dOXob",
        "outputId": "8c73ceb1-b83b-4ca8-f772-89917a57cfda"
      },
      "execution_count": 16,
      "outputs": [
        {
          "output_type": "stream",
          "name": "stdout",
          "text": [
            "tensor([[-0.3676,  0.0197,  0.3481, -0.2340,  0.2281,  0.2402, -0.4320, -0.4275,\n",
            "          0.2546,  0.0946,  0.0774, -0.2624, -0.0133, -0.0560, -0.0314, -0.0642,\n",
            "         -0.4311, -0.0353,  0.1572, -0.4288],\n",
            "        [-0.2757,  0.1584,  0.3598, -0.3118,  0.3493,  0.3552, -0.1772, -0.2064,\n",
            "          0.2602, -0.1190,  0.2552, -0.2230, -0.0413, -0.0097,  0.2532,  0.0562,\n",
            "         -0.2549,  0.0741, -0.0583, -0.6766],\n",
            "        [-0.2370,  0.1495,  0.2945, -0.4485,  0.1517,  0.4344,  0.0203, -0.1688,\n",
            "          0.0951, -0.5218,  0.1228,  0.0487,  0.1558, -0.1251,  0.4411, -0.3255,\n",
            "         -0.2624,  0.1629, -0.0226, -0.5854]], grad_fn=<AddmmBackward0>)\n"
          ]
        }
      ]
    },
    {
      "cell_type": "markdown",
      "source": [
        "### nn.ReLU\n",
        "\n",
        "`비선형 활성화(activation)`는 모델의 입력과 출력 사이에 복잡한 관계(mapping)를 만듭니다.<br> 비선형 활성화는 선형 변환 후에 적용되어 `비선형성(nonlinearity)` 을 도입하고, **신경망이 다양한 현상을 학습할 수 있도록 돕습니다**.\n",
        "\n",
        "이 모델에서는 `nn.ReLU` 를 선형 계층들 사이에 사용하지만, 모델을 만들 때는 **비선형성을 가진 다른 활성화를 도입할 수도 있습니다**."
      ],
      "metadata": {
        "id": "1-2urXSJO09f"
      }
    },
    {
      "cell_type": "code",
      "source": [
        "print(f\"Before ReLU: {hidden1}\\n\\n\")\n",
        "hidden1 = nn.ReLU()(hidden1)\n",
        "print(f\"After ReLU: {hidden1}\")"
      ],
      "metadata": {
        "colab": {
          "base_uri": "https://localhost:8080/"
        },
        "id": "gPiq_-yGSkBJ",
        "outputId": "c08314bb-fcf4-40a8-ff65-959cf4d0dc88"
      },
      "execution_count": 17,
      "outputs": [
        {
          "output_type": "stream",
          "name": "stdout",
          "text": [
            "Before ReLU: tensor([[-0.3676,  0.0197,  0.3481, -0.2340,  0.2281,  0.2402, -0.4320, -0.4275,\n",
            "          0.2546,  0.0946,  0.0774, -0.2624, -0.0133, -0.0560, -0.0314, -0.0642,\n",
            "         -0.4311, -0.0353,  0.1572, -0.4288],\n",
            "        [-0.2757,  0.1584,  0.3598, -0.3118,  0.3493,  0.3552, -0.1772, -0.2064,\n",
            "          0.2602, -0.1190,  0.2552, -0.2230, -0.0413, -0.0097,  0.2532,  0.0562,\n",
            "         -0.2549,  0.0741, -0.0583, -0.6766],\n",
            "        [-0.2370,  0.1495,  0.2945, -0.4485,  0.1517,  0.4344,  0.0203, -0.1688,\n",
            "          0.0951, -0.5218,  0.1228,  0.0487,  0.1558, -0.1251,  0.4411, -0.3255,\n",
            "         -0.2624,  0.1629, -0.0226, -0.5854]], grad_fn=<AddmmBackward0>)\n",
            "\n",
            "\n",
            "After ReLU: tensor([[0.0000, 0.0197, 0.3481, 0.0000, 0.2281, 0.2402, 0.0000, 0.0000, 0.2546,\n",
            "         0.0946, 0.0774, 0.0000, 0.0000, 0.0000, 0.0000, 0.0000, 0.0000, 0.0000,\n",
            "         0.1572, 0.0000],\n",
            "        [0.0000, 0.1584, 0.3598, 0.0000, 0.3493, 0.3552, 0.0000, 0.0000, 0.2602,\n",
            "         0.0000, 0.2552, 0.0000, 0.0000, 0.0000, 0.2532, 0.0562, 0.0000, 0.0741,\n",
            "         0.0000, 0.0000],\n",
            "        [0.0000, 0.1495, 0.2945, 0.0000, 0.1517, 0.4344, 0.0203, 0.0000, 0.0951,\n",
            "         0.0000, 0.1228, 0.0487, 0.1558, 0.0000, 0.4411, 0.0000, 0.0000, 0.1629,\n",
            "         0.0000, 0.0000]], grad_fn=<ReluBackward0>)\n"
          ]
        }
      ]
    },
    {
      "cell_type": "markdown",
      "source": [
        "## nn.Sequential\n",
        "\n",
        "`nn.Sequential` 은 순서를 갖는 모듈의 컨테이너입니다. <br>\n",
        "데이터는 정의된 것과 같은 순서로 모든 모듈들을 통해 전달됩니다. sequential container를 사용하여 아래의 `seq_modules` 와 같은 신경망을 빠르게 만들 수 있습니다."
      ],
      "metadata": {
        "id": "W22MkykVSlAH"
      }
    },
    {
      "cell_type": "code",
      "source": [
        "seq_modules = nn.Sequential(\n",
        "    flatten,  # nn.Flatten()\n",
        "    layer1,  # nn.Linear(in_features=28*28, out_features=20) \n",
        "    nn.ReLU(),\n",
        "    nn.Linear(20, 10) # out_features 20, 10 classifications 이므로\n",
        ")\n",
        "input_image = torch.rand(3,28,28)\n",
        "logits = seq_modules(input_image)"
      ],
      "metadata": {
        "id": "oPBk9AvvSmwU"
      },
      "execution_count": 18,
      "outputs": []
    },
    {
      "cell_type": "code",
      "source": [
        "# 3개의 이미지에 대한 예측값\n",
        "print(logits)"
      ],
      "metadata": {
        "colab": {
          "base_uri": "https://localhost:8080/"
        },
        "id": "EtwLAlQ0WYiz",
        "outputId": "c8ae326a-7a0c-4c8c-8f18-5acd7eebf37e"
      },
      "execution_count": 19,
      "outputs": [
        {
          "output_type": "stream",
          "name": "stdout",
          "text": [
            "tensor([[-0.0717,  0.1054, -0.1870, -0.1946,  0.2715, -0.1940, -0.0677,  0.0563,\n",
            "          0.3319, -0.1045],\n",
            "        [-0.0029,  0.1813, -0.2657, -0.2504,  0.2861, -0.1500, -0.0234,  0.0385,\n",
            "          0.2824, -0.0393],\n",
            "        [-0.0353,  0.1967, -0.2932, -0.2645,  0.3049, -0.2063,  0.1366,  0.0869,\n",
            "          0.2446, -0.1796]], grad_fn=<AddmmBackward0>)\n"
          ]
        }
      ]
    },
    {
      "cell_type": "markdown",
      "source": [
        "## nn.Softmax\n",
        "\n",
        "신경망의 마지막 선형 계층은 `nn.Softmax` 모듈에 전달될 ([-infty, infty] 범위의 raw value인 logits 를 반환합니다.<br> logits는 모델의 각 분류(class)에 대한 예측 확률을 나타내도록 [0, 1] 범위로 비례하여 조정(scale)됩니다. dim 매개변수는 값의 합이 1이 되는 차원을 나타냅니다."
      ],
      "metadata": {
        "id": "EgqS5sKOXrVm"
      }
    },
    {
      "cell_type": "code",
      "source": [
        "# nn.Softmax로 raw logits 0-1 scaling\n",
        "\n",
        "softmax = nn.Softmax(dim=1)\n",
        "pred_probab = softmax(logits)\n",
        "print(pred_probab)"
      ],
      "metadata": {
        "colab": {
          "base_uri": "https://localhost:8080/"
        },
        "id": "F6anmxACXh0r",
        "outputId": "20df5880-8734-4280-eb19-20521f042683"
      },
      "execution_count": 20,
      "outputs": [
        {
          "output_type": "stream",
          "name": "stdout",
          "text": [
            "tensor([[0.0920, 0.1098, 0.0820, 0.0814, 0.1297, 0.0814, 0.0924, 0.1046, 0.1378,\n",
            "         0.0890],\n",
            "        [0.0974, 0.1171, 0.0749, 0.0760, 0.1300, 0.0841, 0.0954, 0.1015, 0.1296,\n",
            "         0.0939],\n",
            "        [0.0945, 0.1192, 0.0730, 0.0751, 0.1328, 0.0796, 0.1122, 0.1068, 0.1250,\n",
            "         0.0818]], grad_fn=<SoftmaxBackward0>)\n"
          ]
        }
      ]
    },
    {
      "cell_type": "markdown",
      "source": [
        "## 4.4 Model Parameters\n",
        "\n",
        "신경망 내부의 많은 계층들은 `매개변수화(parameterize)` 됩니다. <br>\n",
        "즉, 학습 중에 최적화되는 가중치와 편향과 연관지어집니다. \n",
        "<br><br>\n",
        "`nn.Module` 을 상속하면 모델 객체 내부의 **모든 필드들이 자동으로 추적(track)**되며, 모델의 `parameters()` 및 `named_parameters()` 메소드로 모든 매개변수에 접근할 수 있게 됩니다.\n",
        "\n",
        "이 예제에서는 각 매개변수들을 순회하며(iterate), 매개변수의 크기와 값을 출력합니다."
      ],
      "metadata": {
        "id": "WU3p5hpGYv9h"
      }
    },
    {
      "cell_type": "code",
      "source": [
        "print(f\"Model structure: {model}\\n\\n\")\n",
        "\n",
        "for name, param in model.named_parameters():\n",
        "  print(f\"Layer: {name} | Size: {param.size()} | Values: {param[:2]} \\n\")"
      ],
      "metadata": {
        "colab": {
          "base_uri": "https://localhost:8080/"
        },
        "id": "RAbzvDa0Z_oD",
        "outputId": "0721287f-439d-467b-b277-3a4e7c6c7913"
      },
      "execution_count": 21,
      "outputs": [
        {
          "output_type": "stream",
          "name": "stdout",
          "text": [
            "Model structure: NeuralNetwork(\n",
            "  (flatten): Flatten(start_dim=1, end_dim=-1)\n",
            "  (linear_relu_stack): Sequential(\n",
            "    (0): Linear(in_features=784, out_features=512, bias=True)\n",
            "    (1): ReLU()\n",
            "    (2): Linear(in_features=512, out_features=512, bias=True)\n",
            "    (3): ReLU()\n",
            "    (4): Linear(in_features=512, out_features=10, bias=True)\n",
            "  )\n",
            ")\n",
            "\n",
            "\n",
            "Layer: linear_relu_stack.0.weight | Size: torch.Size([512, 784]) | Values: tensor([[-0.0086,  0.0123,  0.0026,  ..., -0.0227, -0.0247, -0.0143],\n",
            "        [-0.0039, -0.0032, -0.0164,  ..., -0.0295, -0.0044,  0.0028]],\n",
            "       device='cuda:0', grad_fn=<SliceBackward0>) \n",
            "\n",
            "Layer: linear_relu_stack.0.bias | Size: torch.Size([512]) | Values: tensor([ 0.0235, -0.0325], device='cuda:0', grad_fn=<SliceBackward0>) \n",
            "\n",
            "Layer: linear_relu_stack.2.weight | Size: torch.Size([512, 512]) | Values: tensor([[ 0.0333,  0.0259, -0.0176,  ...,  0.0172, -0.0349,  0.0050],\n",
            "        [ 0.0026,  0.0421, -0.0366,  ...,  0.0280,  0.0075,  0.0389]],\n",
            "       device='cuda:0', grad_fn=<SliceBackward0>) \n",
            "\n",
            "Layer: linear_relu_stack.2.bias | Size: torch.Size([512]) | Values: tensor([-0.0254,  0.0082], device='cuda:0', grad_fn=<SliceBackward0>) \n",
            "\n",
            "Layer: linear_relu_stack.4.weight | Size: torch.Size([10, 512]) | Values: tensor([[ 0.0391, -0.0367,  0.0381,  ...,  0.0021, -0.0187, -0.0305],\n",
            "        [ 0.0173,  0.0110, -0.0274,  ..., -0.0304, -0.0066, -0.0361]],\n",
            "       device='cuda:0', grad_fn=<SliceBackward0>) \n",
            "\n",
            "Layer: linear_relu_stack.4.bias | Size: torch.Size([10]) | Values: tensor([ 0.0259, -0.0412], device='cuda:0', grad_fn=<SliceBackward0>) \n",
            "\n"
          ]
        }
      ]
    }
  ]
}