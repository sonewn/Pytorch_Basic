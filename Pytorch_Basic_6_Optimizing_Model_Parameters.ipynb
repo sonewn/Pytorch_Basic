{
  "nbformat": 4,
  "nbformat_minor": 0,
  "metadata": {
    "colab": {
      "name": "Pytorch_Basic_6_Optimizing_Model_Parameters.ipynb",
      "provenance": []
    },
    "kernelspec": {
      "name": "python3",
      "display_name": "Python 3"
    },
    "language_info": {
      "name": "python"
    },
    "widgets": {
      "application/vnd.jupyter.widget-state+json": {
        "ce4a4db67ecf404fb365e775d883f5de": {
          "model_module": "@jupyter-widgets/controls",
          "model_name": "HBoxModel",
          "model_module_version": "1.5.0",
          "state": {
            "_dom_classes": [],
            "_model_module": "@jupyter-widgets/controls",
            "_model_module_version": "1.5.0",
            "_model_name": "HBoxModel",
            "_view_count": null,
            "_view_module": "@jupyter-widgets/controls",
            "_view_module_version": "1.5.0",
            "_view_name": "HBoxView",
            "box_style": "",
            "children": [
              "IPY_MODEL_3b53ddd6094347ddbcf0bd47318f0456",
              "IPY_MODEL_7668f2cedf3647d98f84dc5130ed2948",
              "IPY_MODEL_746cf45fb7314a63839b5f7e8eaa3b21"
            ],
            "layout": "IPY_MODEL_84f6fb13da8f462c8a08a1126b89c989"
          }
        },
        "3b53ddd6094347ddbcf0bd47318f0456": {
          "model_module": "@jupyter-widgets/controls",
          "model_name": "HTMLModel",
          "model_module_version": "1.5.0",
          "state": {
            "_dom_classes": [],
            "_model_module": "@jupyter-widgets/controls",
            "_model_module_version": "1.5.0",
            "_model_name": "HTMLModel",
            "_view_count": null,
            "_view_module": "@jupyter-widgets/controls",
            "_view_module_version": "1.5.0",
            "_view_name": "HTMLView",
            "description": "",
            "description_tooltip": null,
            "layout": "IPY_MODEL_06b3752ae1154af79065480d14ec5ff6",
            "placeholder": "​",
            "style": "IPY_MODEL_35b07050f6004dd695ff5038ca19dacb",
            "value": ""
          }
        },
        "7668f2cedf3647d98f84dc5130ed2948": {
          "model_module": "@jupyter-widgets/controls",
          "model_name": "FloatProgressModel",
          "model_module_version": "1.5.0",
          "state": {
            "_dom_classes": [],
            "_model_module": "@jupyter-widgets/controls",
            "_model_module_version": "1.5.0",
            "_model_name": "FloatProgressModel",
            "_view_count": null,
            "_view_module": "@jupyter-widgets/controls",
            "_view_module_version": "1.5.0",
            "_view_name": "ProgressView",
            "bar_style": "success",
            "description": "",
            "description_tooltip": null,
            "layout": "IPY_MODEL_2bd32a0487214649a8b8df7886a186ad",
            "max": 26421880,
            "min": 0,
            "orientation": "horizontal",
            "style": "IPY_MODEL_12aff528c315476bb46d930839417ae7",
            "value": 26421880
          }
        },
        "746cf45fb7314a63839b5f7e8eaa3b21": {
          "model_module": "@jupyter-widgets/controls",
          "model_name": "HTMLModel",
          "model_module_version": "1.5.0",
          "state": {
            "_dom_classes": [],
            "_model_module": "@jupyter-widgets/controls",
            "_model_module_version": "1.5.0",
            "_model_name": "HTMLModel",
            "_view_count": null,
            "_view_module": "@jupyter-widgets/controls",
            "_view_module_version": "1.5.0",
            "_view_name": "HTMLView",
            "description": "",
            "description_tooltip": null,
            "layout": "IPY_MODEL_d21927394e3040029ec2df007044ce9c",
            "placeholder": "​",
            "style": "IPY_MODEL_025415338d514eb29fe8db6f4601043a",
            "value": " 26422272/? [00:01&lt;00:00, 22479449.78it/s]"
          }
        },
        "84f6fb13da8f462c8a08a1126b89c989": {
          "model_module": "@jupyter-widgets/base",
          "model_name": "LayoutModel",
          "model_module_version": "1.2.0",
          "state": {
            "_model_module": "@jupyter-widgets/base",
            "_model_module_version": "1.2.0",
            "_model_name": "LayoutModel",
            "_view_count": null,
            "_view_module": "@jupyter-widgets/base",
            "_view_module_version": "1.2.0",
            "_view_name": "LayoutView",
            "align_content": null,
            "align_items": null,
            "align_self": null,
            "border": null,
            "bottom": null,
            "display": null,
            "flex": null,
            "flex_flow": null,
            "grid_area": null,
            "grid_auto_columns": null,
            "grid_auto_flow": null,
            "grid_auto_rows": null,
            "grid_column": null,
            "grid_gap": null,
            "grid_row": null,
            "grid_template_areas": null,
            "grid_template_columns": null,
            "grid_template_rows": null,
            "height": null,
            "justify_content": null,
            "justify_items": null,
            "left": null,
            "margin": null,
            "max_height": null,
            "max_width": null,
            "min_height": null,
            "min_width": null,
            "object_fit": null,
            "object_position": null,
            "order": null,
            "overflow": null,
            "overflow_x": null,
            "overflow_y": null,
            "padding": null,
            "right": null,
            "top": null,
            "visibility": null,
            "width": null
          }
        },
        "06b3752ae1154af79065480d14ec5ff6": {
          "model_module": "@jupyter-widgets/base",
          "model_name": "LayoutModel",
          "model_module_version": "1.2.0",
          "state": {
            "_model_module": "@jupyter-widgets/base",
            "_model_module_version": "1.2.0",
            "_model_name": "LayoutModel",
            "_view_count": null,
            "_view_module": "@jupyter-widgets/base",
            "_view_module_version": "1.2.0",
            "_view_name": "LayoutView",
            "align_content": null,
            "align_items": null,
            "align_self": null,
            "border": null,
            "bottom": null,
            "display": null,
            "flex": null,
            "flex_flow": null,
            "grid_area": null,
            "grid_auto_columns": null,
            "grid_auto_flow": null,
            "grid_auto_rows": null,
            "grid_column": null,
            "grid_gap": null,
            "grid_row": null,
            "grid_template_areas": null,
            "grid_template_columns": null,
            "grid_template_rows": null,
            "height": null,
            "justify_content": null,
            "justify_items": null,
            "left": null,
            "margin": null,
            "max_height": null,
            "max_width": null,
            "min_height": null,
            "min_width": null,
            "object_fit": null,
            "object_position": null,
            "order": null,
            "overflow": null,
            "overflow_x": null,
            "overflow_y": null,
            "padding": null,
            "right": null,
            "top": null,
            "visibility": null,
            "width": null
          }
        },
        "35b07050f6004dd695ff5038ca19dacb": {
          "model_module": "@jupyter-widgets/controls",
          "model_name": "DescriptionStyleModel",
          "model_module_version": "1.5.0",
          "state": {
            "_model_module": "@jupyter-widgets/controls",
            "_model_module_version": "1.5.0",
            "_model_name": "DescriptionStyleModel",
            "_view_count": null,
            "_view_module": "@jupyter-widgets/base",
            "_view_module_version": "1.2.0",
            "_view_name": "StyleView",
            "description_width": ""
          }
        },
        "2bd32a0487214649a8b8df7886a186ad": {
          "model_module": "@jupyter-widgets/base",
          "model_name": "LayoutModel",
          "model_module_version": "1.2.0",
          "state": {
            "_model_module": "@jupyter-widgets/base",
            "_model_module_version": "1.2.0",
            "_model_name": "LayoutModel",
            "_view_count": null,
            "_view_module": "@jupyter-widgets/base",
            "_view_module_version": "1.2.0",
            "_view_name": "LayoutView",
            "align_content": null,
            "align_items": null,
            "align_self": null,
            "border": null,
            "bottom": null,
            "display": null,
            "flex": null,
            "flex_flow": null,
            "grid_area": null,
            "grid_auto_columns": null,
            "grid_auto_flow": null,
            "grid_auto_rows": null,
            "grid_column": null,
            "grid_gap": null,
            "grid_row": null,
            "grid_template_areas": null,
            "grid_template_columns": null,
            "grid_template_rows": null,
            "height": null,
            "justify_content": null,
            "justify_items": null,
            "left": null,
            "margin": null,
            "max_height": null,
            "max_width": null,
            "min_height": null,
            "min_width": null,
            "object_fit": null,
            "object_position": null,
            "order": null,
            "overflow": null,
            "overflow_x": null,
            "overflow_y": null,
            "padding": null,
            "right": null,
            "top": null,
            "visibility": null,
            "width": null
          }
        },
        "12aff528c315476bb46d930839417ae7": {
          "model_module": "@jupyter-widgets/controls",
          "model_name": "ProgressStyleModel",
          "model_module_version": "1.5.0",
          "state": {
            "_model_module": "@jupyter-widgets/controls",
            "_model_module_version": "1.5.0",
            "_model_name": "ProgressStyleModel",
            "_view_count": null,
            "_view_module": "@jupyter-widgets/base",
            "_view_module_version": "1.2.0",
            "_view_name": "StyleView",
            "bar_color": null,
            "description_width": ""
          }
        },
        "d21927394e3040029ec2df007044ce9c": {
          "model_module": "@jupyter-widgets/base",
          "model_name": "LayoutModel",
          "model_module_version": "1.2.0",
          "state": {
            "_model_module": "@jupyter-widgets/base",
            "_model_module_version": "1.2.0",
            "_model_name": "LayoutModel",
            "_view_count": null,
            "_view_module": "@jupyter-widgets/base",
            "_view_module_version": "1.2.0",
            "_view_name": "LayoutView",
            "align_content": null,
            "align_items": null,
            "align_self": null,
            "border": null,
            "bottom": null,
            "display": null,
            "flex": null,
            "flex_flow": null,
            "grid_area": null,
            "grid_auto_columns": null,
            "grid_auto_flow": null,
            "grid_auto_rows": null,
            "grid_column": null,
            "grid_gap": null,
            "grid_row": null,
            "grid_template_areas": null,
            "grid_template_columns": null,
            "grid_template_rows": null,
            "height": null,
            "justify_content": null,
            "justify_items": null,
            "left": null,
            "margin": null,
            "max_height": null,
            "max_width": null,
            "min_height": null,
            "min_width": null,
            "object_fit": null,
            "object_position": null,
            "order": null,
            "overflow": null,
            "overflow_x": null,
            "overflow_y": null,
            "padding": null,
            "right": null,
            "top": null,
            "visibility": null,
            "width": null
          }
        },
        "025415338d514eb29fe8db6f4601043a": {
          "model_module": "@jupyter-widgets/controls",
          "model_name": "DescriptionStyleModel",
          "model_module_version": "1.5.0",
          "state": {
            "_model_module": "@jupyter-widgets/controls",
            "_model_module_version": "1.5.0",
            "_model_name": "DescriptionStyleModel",
            "_view_count": null,
            "_view_module": "@jupyter-widgets/base",
            "_view_module_version": "1.2.0",
            "_view_name": "StyleView",
            "description_width": ""
          }
        },
        "217ab46b943e4b479e3aa5b255e05016": {
          "model_module": "@jupyter-widgets/controls",
          "model_name": "HBoxModel",
          "model_module_version": "1.5.0",
          "state": {
            "_dom_classes": [],
            "_model_module": "@jupyter-widgets/controls",
            "_model_module_version": "1.5.0",
            "_model_name": "HBoxModel",
            "_view_count": null,
            "_view_module": "@jupyter-widgets/controls",
            "_view_module_version": "1.5.0",
            "_view_name": "HBoxView",
            "box_style": "",
            "children": [
              "IPY_MODEL_e116bb52c44b466cba79477de8b99e1d",
              "IPY_MODEL_f979e2cd70f440e5a2841f95f42befa6",
              "IPY_MODEL_b950b74f181b4cf78fcea41bd5a62adc"
            ],
            "layout": "IPY_MODEL_4bca44fe20544f3cb0d2b8d44d4e25fe"
          }
        },
        "e116bb52c44b466cba79477de8b99e1d": {
          "model_module": "@jupyter-widgets/controls",
          "model_name": "HTMLModel",
          "model_module_version": "1.5.0",
          "state": {
            "_dom_classes": [],
            "_model_module": "@jupyter-widgets/controls",
            "_model_module_version": "1.5.0",
            "_model_name": "HTMLModel",
            "_view_count": null,
            "_view_module": "@jupyter-widgets/controls",
            "_view_module_version": "1.5.0",
            "_view_name": "HTMLView",
            "description": "",
            "description_tooltip": null,
            "layout": "IPY_MODEL_5d4598fae4854f42aae31c4273619a58",
            "placeholder": "​",
            "style": "IPY_MODEL_2e41ee5c225f4328816229bc2c413a17",
            "value": ""
          }
        },
        "f979e2cd70f440e5a2841f95f42befa6": {
          "model_module": "@jupyter-widgets/controls",
          "model_name": "FloatProgressModel",
          "model_module_version": "1.5.0",
          "state": {
            "_dom_classes": [],
            "_model_module": "@jupyter-widgets/controls",
            "_model_module_version": "1.5.0",
            "_model_name": "FloatProgressModel",
            "_view_count": null,
            "_view_module": "@jupyter-widgets/controls",
            "_view_module_version": "1.5.0",
            "_view_name": "ProgressView",
            "bar_style": "success",
            "description": "",
            "description_tooltip": null,
            "layout": "IPY_MODEL_98242e75d76543b390714adc9f877383",
            "max": 29515,
            "min": 0,
            "orientation": "horizontal",
            "style": "IPY_MODEL_8863ad86ce1d4379bb09f266f4294200",
            "value": 29515
          }
        },
        "b950b74f181b4cf78fcea41bd5a62adc": {
          "model_module": "@jupyter-widgets/controls",
          "model_name": "HTMLModel",
          "model_module_version": "1.5.0",
          "state": {
            "_dom_classes": [],
            "_model_module": "@jupyter-widgets/controls",
            "_model_module_version": "1.5.0",
            "_model_name": "HTMLModel",
            "_view_count": null,
            "_view_module": "@jupyter-widgets/controls",
            "_view_module_version": "1.5.0",
            "_view_name": "HTMLView",
            "description": "",
            "description_tooltip": null,
            "layout": "IPY_MODEL_3d11834e939541a698f00cffa38a1dc9",
            "placeholder": "​",
            "style": "IPY_MODEL_e3ce99e508a2491f823957ad5200b94a",
            "value": " 29696/? [00:00&lt;00:00, 126448.73it/s]"
          }
        },
        "4bca44fe20544f3cb0d2b8d44d4e25fe": {
          "model_module": "@jupyter-widgets/base",
          "model_name": "LayoutModel",
          "model_module_version": "1.2.0",
          "state": {
            "_model_module": "@jupyter-widgets/base",
            "_model_module_version": "1.2.0",
            "_model_name": "LayoutModel",
            "_view_count": null,
            "_view_module": "@jupyter-widgets/base",
            "_view_module_version": "1.2.0",
            "_view_name": "LayoutView",
            "align_content": null,
            "align_items": null,
            "align_self": null,
            "border": null,
            "bottom": null,
            "display": null,
            "flex": null,
            "flex_flow": null,
            "grid_area": null,
            "grid_auto_columns": null,
            "grid_auto_flow": null,
            "grid_auto_rows": null,
            "grid_column": null,
            "grid_gap": null,
            "grid_row": null,
            "grid_template_areas": null,
            "grid_template_columns": null,
            "grid_template_rows": null,
            "height": null,
            "justify_content": null,
            "justify_items": null,
            "left": null,
            "margin": null,
            "max_height": null,
            "max_width": null,
            "min_height": null,
            "min_width": null,
            "object_fit": null,
            "object_position": null,
            "order": null,
            "overflow": null,
            "overflow_x": null,
            "overflow_y": null,
            "padding": null,
            "right": null,
            "top": null,
            "visibility": null,
            "width": null
          }
        },
        "5d4598fae4854f42aae31c4273619a58": {
          "model_module": "@jupyter-widgets/base",
          "model_name": "LayoutModel",
          "model_module_version": "1.2.0",
          "state": {
            "_model_module": "@jupyter-widgets/base",
            "_model_module_version": "1.2.0",
            "_model_name": "LayoutModel",
            "_view_count": null,
            "_view_module": "@jupyter-widgets/base",
            "_view_module_version": "1.2.0",
            "_view_name": "LayoutView",
            "align_content": null,
            "align_items": null,
            "align_self": null,
            "border": null,
            "bottom": null,
            "display": null,
            "flex": null,
            "flex_flow": null,
            "grid_area": null,
            "grid_auto_columns": null,
            "grid_auto_flow": null,
            "grid_auto_rows": null,
            "grid_column": null,
            "grid_gap": null,
            "grid_row": null,
            "grid_template_areas": null,
            "grid_template_columns": null,
            "grid_template_rows": null,
            "height": null,
            "justify_content": null,
            "justify_items": null,
            "left": null,
            "margin": null,
            "max_height": null,
            "max_width": null,
            "min_height": null,
            "min_width": null,
            "object_fit": null,
            "object_position": null,
            "order": null,
            "overflow": null,
            "overflow_x": null,
            "overflow_y": null,
            "padding": null,
            "right": null,
            "top": null,
            "visibility": null,
            "width": null
          }
        },
        "2e41ee5c225f4328816229bc2c413a17": {
          "model_module": "@jupyter-widgets/controls",
          "model_name": "DescriptionStyleModel",
          "model_module_version": "1.5.0",
          "state": {
            "_model_module": "@jupyter-widgets/controls",
            "_model_module_version": "1.5.0",
            "_model_name": "DescriptionStyleModel",
            "_view_count": null,
            "_view_module": "@jupyter-widgets/base",
            "_view_module_version": "1.2.0",
            "_view_name": "StyleView",
            "description_width": ""
          }
        },
        "98242e75d76543b390714adc9f877383": {
          "model_module": "@jupyter-widgets/base",
          "model_name": "LayoutModel",
          "model_module_version": "1.2.0",
          "state": {
            "_model_module": "@jupyter-widgets/base",
            "_model_module_version": "1.2.0",
            "_model_name": "LayoutModel",
            "_view_count": null,
            "_view_module": "@jupyter-widgets/base",
            "_view_module_version": "1.2.0",
            "_view_name": "LayoutView",
            "align_content": null,
            "align_items": null,
            "align_self": null,
            "border": null,
            "bottom": null,
            "display": null,
            "flex": null,
            "flex_flow": null,
            "grid_area": null,
            "grid_auto_columns": null,
            "grid_auto_flow": null,
            "grid_auto_rows": null,
            "grid_column": null,
            "grid_gap": null,
            "grid_row": null,
            "grid_template_areas": null,
            "grid_template_columns": null,
            "grid_template_rows": null,
            "height": null,
            "justify_content": null,
            "justify_items": null,
            "left": null,
            "margin": null,
            "max_height": null,
            "max_width": null,
            "min_height": null,
            "min_width": null,
            "object_fit": null,
            "object_position": null,
            "order": null,
            "overflow": null,
            "overflow_x": null,
            "overflow_y": null,
            "padding": null,
            "right": null,
            "top": null,
            "visibility": null,
            "width": null
          }
        },
        "8863ad86ce1d4379bb09f266f4294200": {
          "model_module": "@jupyter-widgets/controls",
          "model_name": "ProgressStyleModel",
          "model_module_version": "1.5.0",
          "state": {
            "_model_module": "@jupyter-widgets/controls",
            "_model_module_version": "1.5.0",
            "_model_name": "ProgressStyleModel",
            "_view_count": null,
            "_view_module": "@jupyter-widgets/base",
            "_view_module_version": "1.2.0",
            "_view_name": "StyleView",
            "bar_color": null,
            "description_width": ""
          }
        },
        "3d11834e939541a698f00cffa38a1dc9": {
          "model_module": "@jupyter-widgets/base",
          "model_name": "LayoutModel",
          "model_module_version": "1.2.0",
          "state": {
            "_model_module": "@jupyter-widgets/base",
            "_model_module_version": "1.2.0",
            "_model_name": "LayoutModel",
            "_view_count": null,
            "_view_module": "@jupyter-widgets/base",
            "_view_module_version": "1.2.0",
            "_view_name": "LayoutView",
            "align_content": null,
            "align_items": null,
            "align_self": null,
            "border": null,
            "bottom": null,
            "display": null,
            "flex": null,
            "flex_flow": null,
            "grid_area": null,
            "grid_auto_columns": null,
            "grid_auto_flow": null,
            "grid_auto_rows": null,
            "grid_column": null,
            "grid_gap": null,
            "grid_row": null,
            "grid_template_areas": null,
            "grid_template_columns": null,
            "grid_template_rows": null,
            "height": null,
            "justify_content": null,
            "justify_items": null,
            "left": null,
            "margin": null,
            "max_height": null,
            "max_width": null,
            "min_height": null,
            "min_width": null,
            "object_fit": null,
            "object_position": null,
            "order": null,
            "overflow": null,
            "overflow_x": null,
            "overflow_y": null,
            "padding": null,
            "right": null,
            "top": null,
            "visibility": null,
            "width": null
          }
        },
        "e3ce99e508a2491f823957ad5200b94a": {
          "model_module": "@jupyter-widgets/controls",
          "model_name": "DescriptionStyleModel",
          "model_module_version": "1.5.0",
          "state": {
            "_model_module": "@jupyter-widgets/controls",
            "_model_module_version": "1.5.0",
            "_model_name": "DescriptionStyleModel",
            "_view_count": null,
            "_view_module": "@jupyter-widgets/base",
            "_view_module_version": "1.2.0",
            "_view_name": "StyleView",
            "description_width": ""
          }
        },
        "16ff37d193864b93bf3044c1af0911fa": {
          "model_module": "@jupyter-widgets/controls",
          "model_name": "HBoxModel",
          "model_module_version": "1.5.0",
          "state": {
            "_dom_classes": [],
            "_model_module": "@jupyter-widgets/controls",
            "_model_module_version": "1.5.0",
            "_model_name": "HBoxModel",
            "_view_count": null,
            "_view_module": "@jupyter-widgets/controls",
            "_view_module_version": "1.5.0",
            "_view_name": "HBoxView",
            "box_style": "",
            "children": [
              "IPY_MODEL_67042382218e4d20866cf8ee6a805647",
              "IPY_MODEL_00984b961f7842edadc1fc5e7faf2ee8",
              "IPY_MODEL_f2da1a69e5f1491e9ea8701049b6fb06"
            ],
            "layout": "IPY_MODEL_2ba9933775914569a93b0f64989bc198"
          }
        },
        "67042382218e4d20866cf8ee6a805647": {
          "model_module": "@jupyter-widgets/controls",
          "model_name": "HTMLModel",
          "model_module_version": "1.5.0",
          "state": {
            "_dom_classes": [],
            "_model_module": "@jupyter-widgets/controls",
            "_model_module_version": "1.5.0",
            "_model_name": "HTMLModel",
            "_view_count": null,
            "_view_module": "@jupyter-widgets/controls",
            "_view_module_version": "1.5.0",
            "_view_name": "HTMLView",
            "description": "",
            "description_tooltip": null,
            "layout": "IPY_MODEL_83056f60513a457f93a4ddf2d427aa1c",
            "placeholder": "​",
            "style": "IPY_MODEL_c902740e6f7f4baa91a3557b5fd53632",
            "value": ""
          }
        },
        "00984b961f7842edadc1fc5e7faf2ee8": {
          "model_module": "@jupyter-widgets/controls",
          "model_name": "FloatProgressModel",
          "model_module_version": "1.5.0",
          "state": {
            "_dom_classes": [],
            "_model_module": "@jupyter-widgets/controls",
            "_model_module_version": "1.5.0",
            "_model_name": "FloatProgressModel",
            "_view_count": null,
            "_view_module": "@jupyter-widgets/controls",
            "_view_module_version": "1.5.0",
            "_view_name": "ProgressView",
            "bar_style": "success",
            "description": "",
            "description_tooltip": null,
            "layout": "IPY_MODEL_dc1328fffdd84864942367a3449f9b61",
            "max": 4422102,
            "min": 0,
            "orientation": "horizontal",
            "style": "IPY_MODEL_ee2b6827533b43f89e925eb95cadfcc8",
            "value": 4422102
          }
        },
        "f2da1a69e5f1491e9ea8701049b6fb06": {
          "model_module": "@jupyter-widgets/controls",
          "model_name": "HTMLModel",
          "model_module_version": "1.5.0",
          "state": {
            "_dom_classes": [],
            "_model_module": "@jupyter-widgets/controls",
            "_model_module_version": "1.5.0",
            "_model_name": "HTMLModel",
            "_view_count": null,
            "_view_module": "@jupyter-widgets/controls",
            "_view_module_version": "1.5.0",
            "_view_name": "HTMLView",
            "description": "",
            "description_tooltip": null,
            "layout": "IPY_MODEL_37340a5aceff4095b7b7a1feea11d1c0",
            "placeholder": "​",
            "style": "IPY_MODEL_572dfbb3c83d4581b14aec3250f62323",
            "value": " 4422656/? [00:00&lt;00:00, 6635880.25it/s]"
          }
        },
        "2ba9933775914569a93b0f64989bc198": {
          "model_module": "@jupyter-widgets/base",
          "model_name": "LayoutModel",
          "model_module_version": "1.2.0",
          "state": {
            "_model_module": "@jupyter-widgets/base",
            "_model_module_version": "1.2.0",
            "_model_name": "LayoutModel",
            "_view_count": null,
            "_view_module": "@jupyter-widgets/base",
            "_view_module_version": "1.2.0",
            "_view_name": "LayoutView",
            "align_content": null,
            "align_items": null,
            "align_self": null,
            "border": null,
            "bottom": null,
            "display": null,
            "flex": null,
            "flex_flow": null,
            "grid_area": null,
            "grid_auto_columns": null,
            "grid_auto_flow": null,
            "grid_auto_rows": null,
            "grid_column": null,
            "grid_gap": null,
            "grid_row": null,
            "grid_template_areas": null,
            "grid_template_columns": null,
            "grid_template_rows": null,
            "height": null,
            "justify_content": null,
            "justify_items": null,
            "left": null,
            "margin": null,
            "max_height": null,
            "max_width": null,
            "min_height": null,
            "min_width": null,
            "object_fit": null,
            "object_position": null,
            "order": null,
            "overflow": null,
            "overflow_x": null,
            "overflow_y": null,
            "padding": null,
            "right": null,
            "top": null,
            "visibility": null,
            "width": null
          }
        },
        "83056f60513a457f93a4ddf2d427aa1c": {
          "model_module": "@jupyter-widgets/base",
          "model_name": "LayoutModel",
          "model_module_version": "1.2.0",
          "state": {
            "_model_module": "@jupyter-widgets/base",
            "_model_module_version": "1.2.0",
            "_model_name": "LayoutModel",
            "_view_count": null,
            "_view_module": "@jupyter-widgets/base",
            "_view_module_version": "1.2.0",
            "_view_name": "LayoutView",
            "align_content": null,
            "align_items": null,
            "align_self": null,
            "border": null,
            "bottom": null,
            "display": null,
            "flex": null,
            "flex_flow": null,
            "grid_area": null,
            "grid_auto_columns": null,
            "grid_auto_flow": null,
            "grid_auto_rows": null,
            "grid_column": null,
            "grid_gap": null,
            "grid_row": null,
            "grid_template_areas": null,
            "grid_template_columns": null,
            "grid_template_rows": null,
            "height": null,
            "justify_content": null,
            "justify_items": null,
            "left": null,
            "margin": null,
            "max_height": null,
            "max_width": null,
            "min_height": null,
            "min_width": null,
            "object_fit": null,
            "object_position": null,
            "order": null,
            "overflow": null,
            "overflow_x": null,
            "overflow_y": null,
            "padding": null,
            "right": null,
            "top": null,
            "visibility": null,
            "width": null
          }
        },
        "c902740e6f7f4baa91a3557b5fd53632": {
          "model_module": "@jupyter-widgets/controls",
          "model_name": "DescriptionStyleModel",
          "model_module_version": "1.5.0",
          "state": {
            "_model_module": "@jupyter-widgets/controls",
            "_model_module_version": "1.5.0",
            "_model_name": "DescriptionStyleModel",
            "_view_count": null,
            "_view_module": "@jupyter-widgets/base",
            "_view_module_version": "1.2.0",
            "_view_name": "StyleView",
            "description_width": ""
          }
        },
        "dc1328fffdd84864942367a3449f9b61": {
          "model_module": "@jupyter-widgets/base",
          "model_name": "LayoutModel",
          "model_module_version": "1.2.0",
          "state": {
            "_model_module": "@jupyter-widgets/base",
            "_model_module_version": "1.2.0",
            "_model_name": "LayoutModel",
            "_view_count": null,
            "_view_module": "@jupyter-widgets/base",
            "_view_module_version": "1.2.0",
            "_view_name": "LayoutView",
            "align_content": null,
            "align_items": null,
            "align_self": null,
            "border": null,
            "bottom": null,
            "display": null,
            "flex": null,
            "flex_flow": null,
            "grid_area": null,
            "grid_auto_columns": null,
            "grid_auto_flow": null,
            "grid_auto_rows": null,
            "grid_column": null,
            "grid_gap": null,
            "grid_row": null,
            "grid_template_areas": null,
            "grid_template_columns": null,
            "grid_template_rows": null,
            "height": null,
            "justify_content": null,
            "justify_items": null,
            "left": null,
            "margin": null,
            "max_height": null,
            "max_width": null,
            "min_height": null,
            "min_width": null,
            "object_fit": null,
            "object_position": null,
            "order": null,
            "overflow": null,
            "overflow_x": null,
            "overflow_y": null,
            "padding": null,
            "right": null,
            "top": null,
            "visibility": null,
            "width": null
          }
        },
        "ee2b6827533b43f89e925eb95cadfcc8": {
          "model_module": "@jupyter-widgets/controls",
          "model_name": "ProgressStyleModel",
          "model_module_version": "1.5.0",
          "state": {
            "_model_module": "@jupyter-widgets/controls",
            "_model_module_version": "1.5.0",
            "_model_name": "ProgressStyleModel",
            "_view_count": null,
            "_view_module": "@jupyter-widgets/base",
            "_view_module_version": "1.2.0",
            "_view_name": "StyleView",
            "bar_color": null,
            "description_width": ""
          }
        },
        "37340a5aceff4095b7b7a1feea11d1c0": {
          "model_module": "@jupyter-widgets/base",
          "model_name": "LayoutModel",
          "model_module_version": "1.2.0",
          "state": {
            "_model_module": "@jupyter-widgets/base",
            "_model_module_version": "1.2.0",
            "_model_name": "LayoutModel",
            "_view_count": null,
            "_view_module": "@jupyter-widgets/base",
            "_view_module_version": "1.2.0",
            "_view_name": "LayoutView",
            "align_content": null,
            "align_items": null,
            "align_self": null,
            "border": null,
            "bottom": null,
            "display": null,
            "flex": null,
            "flex_flow": null,
            "grid_area": null,
            "grid_auto_columns": null,
            "grid_auto_flow": null,
            "grid_auto_rows": null,
            "grid_column": null,
            "grid_gap": null,
            "grid_row": null,
            "grid_template_areas": null,
            "grid_template_columns": null,
            "grid_template_rows": null,
            "height": null,
            "justify_content": null,
            "justify_items": null,
            "left": null,
            "margin": null,
            "max_height": null,
            "max_width": null,
            "min_height": null,
            "min_width": null,
            "object_fit": null,
            "object_position": null,
            "order": null,
            "overflow": null,
            "overflow_x": null,
            "overflow_y": null,
            "padding": null,
            "right": null,
            "top": null,
            "visibility": null,
            "width": null
          }
        },
        "572dfbb3c83d4581b14aec3250f62323": {
          "model_module": "@jupyter-widgets/controls",
          "model_name": "DescriptionStyleModel",
          "model_module_version": "1.5.0",
          "state": {
            "_model_module": "@jupyter-widgets/controls",
            "_model_module_version": "1.5.0",
            "_model_name": "DescriptionStyleModel",
            "_view_count": null,
            "_view_module": "@jupyter-widgets/base",
            "_view_module_version": "1.2.0",
            "_view_name": "StyleView",
            "description_width": ""
          }
        },
        "1f40f964884b4513943e03c6724392af": {
          "model_module": "@jupyter-widgets/controls",
          "model_name": "HBoxModel",
          "model_module_version": "1.5.0",
          "state": {
            "_dom_classes": [],
            "_model_module": "@jupyter-widgets/controls",
            "_model_module_version": "1.5.0",
            "_model_name": "HBoxModel",
            "_view_count": null,
            "_view_module": "@jupyter-widgets/controls",
            "_view_module_version": "1.5.0",
            "_view_name": "HBoxView",
            "box_style": "",
            "children": [
              "IPY_MODEL_32957b98c403457c8f2722bba3933657",
              "IPY_MODEL_56ba0d57a2624deb9168d5ccec96ff8b",
              "IPY_MODEL_fb8877ee5bc1442191686f60bdad7993"
            ],
            "layout": "IPY_MODEL_f488fbadf9ce4e82a39a450583a0bf38"
          }
        },
        "32957b98c403457c8f2722bba3933657": {
          "model_module": "@jupyter-widgets/controls",
          "model_name": "HTMLModel",
          "model_module_version": "1.5.0",
          "state": {
            "_dom_classes": [],
            "_model_module": "@jupyter-widgets/controls",
            "_model_module_version": "1.5.0",
            "_model_name": "HTMLModel",
            "_view_count": null,
            "_view_module": "@jupyter-widgets/controls",
            "_view_module_version": "1.5.0",
            "_view_name": "HTMLView",
            "description": "",
            "description_tooltip": null,
            "layout": "IPY_MODEL_92488bdf857343aabd493cc75eea53c9",
            "placeholder": "​",
            "style": "IPY_MODEL_48b42c593c624746b9f53aa507b066d3",
            "value": ""
          }
        },
        "56ba0d57a2624deb9168d5ccec96ff8b": {
          "model_module": "@jupyter-widgets/controls",
          "model_name": "FloatProgressModel",
          "model_module_version": "1.5.0",
          "state": {
            "_dom_classes": [],
            "_model_module": "@jupyter-widgets/controls",
            "_model_module_version": "1.5.0",
            "_model_name": "FloatProgressModel",
            "_view_count": null,
            "_view_module": "@jupyter-widgets/controls",
            "_view_module_version": "1.5.0",
            "_view_name": "ProgressView",
            "bar_style": "success",
            "description": "",
            "description_tooltip": null,
            "layout": "IPY_MODEL_777ba32dd62847e08e55d61d76223a2c",
            "max": 5148,
            "min": 0,
            "orientation": "horizontal",
            "style": "IPY_MODEL_af1271848dcb4afca0a3b1723b9da184",
            "value": 5148
          }
        },
        "fb8877ee5bc1442191686f60bdad7993": {
          "model_module": "@jupyter-widgets/controls",
          "model_name": "HTMLModel",
          "model_module_version": "1.5.0",
          "state": {
            "_dom_classes": [],
            "_model_module": "@jupyter-widgets/controls",
            "_model_module_version": "1.5.0",
            "_model_name": "HTMLModel",
            "_view_count": null,
            "_view_module": "@jupyter-widgets/controls",
            "_view_module_version": "1.5.0",
            "_view_name": "HTMLView",
            "description": "",
            "description_tooltip": null,
            "layout": "IPY_MODEL_d606b3201047458f93eb9f9a315b12f1",
            "placeholder": "​",
            "style": "IPY_MODEL_bc8b0b8eee41452582ff158324fd0123",
            "value": " 6144/? [00:00&lt;00:00, 97969.14it/s]"
          }
        },
        "f488fbadf9ce4e82a39a450583a0bf38": {
          "model_module": "@jupyter-widgets/base",
          "model_name": "LayoutModel",
          "model_module_version": "1.2.0",
          "state": {
            "_model_module": "@jupyter-widgets/base",
            "_model_module_version": "1.2.0",
            "_model_name": "LayoutModel",
            "_view_count": null,
            "_view_module": "@jupyter-widgets/base",
            "_view_module_version": "1.2.0",
            "_view_name": "LayoutView",
            "align_content": null,
            "align_items": null,
            "align_self": null,
            "border": null,
            "bottom": null,
            "display": null,
            "flex": null,
            "flex_flow": null,
            "grid_area": null,
            "grid_auto_columns": null,
            "grid_auto_flow": null,
            "grid_auto_rows": null,
            "grid_column": null,
            "grid_gap": null,
            "grid_row": null,
            "grid_template_areas": null,
            "grid_template_columns": null,
            "grid_template_rows": null,
            "height": null,
            "justify_content": null,
            "justify_items": null,
            "left": null,
            "margin": null,
            "max_height": null,
            "max_width": null,
            "min_height": null,
            "min_width": null,
            "object_fit": null,
            "object_position": null,
            "order": null,
            "overflow": null,
            "overflow_x": null,
            "overflow_y": null,
            "padding": null,
            "right": null,
            "top": null,
            "visibility": null,
            "width": null
          }
        },
        "92488bdf857343aabd493cc75eea53c9": {
          "model_module": "@jupyter-widgets/base",
          "model_name": "LayoutModel",
          "model_module_version": "1.2.0",
          "state": {
            "_model_module": "@jupyter-widgets/base",
            "_model_module_version": "1.2.0",
            "_model_name": "LayoutModel",
            "_view_count": null,
            "_view_module": "@jupyter-widgets/base",
            "_view_module_version": "1.2.0",
            "_view_name": "LayoutView",
            "align_content": null,
            "align_items": null,
            "align_self": null,
            "border": null,
            "bottom": null,
            "display": null,
            "flex": null,
            "flex_flow": null,
            "grid_area": null,
            "grid_auto_columns": null,
            "grid_auto_flow": null,
            "grid_auto_rows": null,
            "grid_column": null,
            "grid_gap": null,
            "grid_row": null,
            "grid_template_areas": null,
            "grid_template_columns": null,
            "grid_template_rows": null,
            "height": null,
            "justify_content": null,
            "justify_items": null,
            "left": null,
            "margin": null,
            "max_height": null,
            "max_width": null,
            "min_height": null,
            "min_width": null,
            "object_fit": null,
            "object_position": null,
            "order": null,
            "overflow": null,
            "overflow_x": null,
            "overflow_y": null,
            "padding": null,
            "right": null,
            "top": null,
            "visibility": null,
            "width": null
          }
        },
        "48b42c593c624746b9f53aa507b066d3": {
          "model_module": "@jupyter-widgets/controls",
          "model_name": "DescriptionStyleModel",
          "model_module_version": "1.5.0",
          "state": {
            "_model_module": "@jupyter-widgets/controls",
            "_model_module_version": "1.5.0",
            "_model_name": "DescriptionStyleModel",
            "_view_count": null,
            "_view_module": "@jupyter-widgets/base",
            "_view_module_version": "1.2.0",
            "_view_name": "StyleView",
            "description_width": ""
          }
        },
        "777ba32dd62847e08e55d61d76223a2c": {
          "model_module": "@jupyter-widgets/base",
          "model_name": "LayoutModel",
          "model_module_version": "1.2.0",
          "state": {
            "_model_module": "@jupyter-widgets/base",
            "_model_module_version": "1.2.0",
            "_model_name": "LayoutModel",
            "_view_count": null,
            "_view_module": "@jupyter-widgets/base",
            "_view_module_version": "1.2.0",
            "_view_name": "LayoutView",
            "align_content": null,
            "align_items": null,
            "align_self": null,
            "border": null,
            "bottom": null,
            "display": null,
            "flex": null,
            "flex_flow": null,
            "grid_area": null,
            "grid_auto_columns": null,
            "grid_auto_flow": null,
            "grid_auto_rows": null,
            "grid_column": null,
            "grid_gap": null,
            "grid_row": null,
            "grid_template_areas": null,
            "grid_template_columns": null,
            "grid_template_rows": null,
            "height": null,
            "justify_content": null,
            "justify_items": null,
            "left": null,
            "margin": null,
            "max_height": null,
            "max_width": null,
            "min_height": null,
            "min_width": null,
            "object_fit": null,
            "object_position": null,
            "order": null,
            "overflow": null,
            "overflow_x": null,
            "overflow_y": null,
            "padding": null,
            "right": null,
            "top": null,
            "visibility": null,
            "width": null
          }
        },
        "af1271848dcb4afca0a3b1723b9da184": {
          "model_module": "@jupyter-widgets/controls",
          "model_name": "ProgressStyleModel",
          "model_module_version": "1.5.0",
          "state": {
            "_model_module": "@jupyter-widgets/controls",
            "_model_module_version": "1.5.0",
            "_model_name": "ProgressStyleModel",
            "_view_count": null,
            "_view_module": "@jupyter-widgets/base",
            "_view_module_version": "1.2.0",
            "_view_name": "StyleView",
            "bar_color": null,
            "description_width": ""
          }
        },
        "d606b3201047458f93eb9f9a315b12f1": {
          "model_module": "@jupyter-widgets/base",
          "model_name": "LayoutModel",
          "model_module_version": "1.2.0",
          "state": {
            "_model_module": "@jupyter-widgets/base",
            "_model_module_version": "1.2.0",
            "_model_name": "LayoutModel",
            "_view_count": null,
            "_view_module": "@jupyter-widgets/base",
            "_view_module_version": "1.2.0",
            "_view_name": "LayoutView",
            "align_content": null,
            "align_items": null,
            "align_self": null,
            "border": null,
            "bottom": null,
            "display": null,
            "flex": null,
            "flex_flow": null,
            "grid_area": null,
            "grid_auto_columns": null,
            "grid_auto_flow": null,
            "grid_auto_rows": null,
            "grid_column": null,
            "grid_gap": null,
            "grid_row": null,
            "grid_template_areas": null,
            "grid_template_columns": null,
            "grid_template_rows": null,
            "height": null,
            "justify_content": null,
            "justify_items": null,
            "left": null,
            "margin": null,
            "max_height": null,
            "max_width": null,
            "min_height": null,
            "min_width": null,
            "object_fit": null,
            "object_position": null,
            "order": null,
            "overflow": null,
            "overflow_x": null,
            "overflow_y": null,
            "padding": null,
            "right": null,
            "top": null,
            "visibility": null,
            "width": null
          }
        },
        "bc8b0b8eee41452582ff158324fd0123": {
          "model_module": "@jupyter-widgets/controls",
          "model_name": "DescriptionStyleModel",
          "model_module_version": "1.5.0",
          "state": {
            "_model_module": "@jupyter-widgets/controls",
            "_model_module_version": "1.5.0",
            "_model_name": "DescriptionStyleModel",
            "_view_count": null,
            "_view_module": "@jupyter-widgets/base",
            "_view_module_version": "1.2.0",
            "_view_name": "StyleView",
            "description_width": ""
          }
        }
      }
    }
  },
  "cells": [
    {
      "cell_type": "markdown",
      "source": [
        "# 6. Optimizing Model Parameters\n",
        "\n",
        "앞선 노트북을 통해 모델 생성, 데이터 셋 구축, back propagaion 과정을 살펴보았습니다.\n",
        "\n",
        "따라서 이제 파라미터를 최적화 해 모델을 학습, 검증, 테스트 해 봅시다."
      ],
      "metadata": {
        "id": "9i5K1QTQf6bO"
      }
    },
    {
      "cell_type": "markdown",
      "source": [
        "모델 학습은 iteractive 한 process로 \n",
        "\n",
        "1epoc 마다 모델은 output 에 대한 추측을 하고, 추측의 오류(손식)를 계산하고, 파라미터에 대한 오류의 파생물(derivatives)를 수집하고, 경사하강법(gradient descent)를 활용해 이러한 파라미터들을 최적화 한다.\n",
        "\n"
      ],
      "metadata": {
        "id": "olsKwYKPwcGL"
      }
    },
    {
      "cell_type": "markdown",
      "source": [
        "## 6.1 Prerequisite Code"
      ],
      "metadata": {
        "id": "Xzx7GWiXxkeY"
      }
    },
    {
      "cell_type": "code",
      "execution_count": 1,
      "metadata": {
        "id": "hadSTNCdf2UA"
      },
      "outputs": [],
      "source": [
        "import torch\n",
        "from torch import nn\n",
        "from torch.utils.data import DataLoader\n",
        "from torchvision import datasets\n",
        "from torchvision.transforms import ToTensor, Lambda"
      ]
    },
    {
      "cell_type": "code",
      "source": [
        "training_data = datasets.FashionMNIST(\n",
        "    root=\"data\",\n",
        "    train=True,\n",
        "    download=True,\n",
        "    transform=ToTensor()\n",
        ")\n",
        "\n",
        "test_data = datasets.FashionMNIST(\n",
        "    root=\"data\",\n",
        "    train=False,\n",
        "    download=True,\n",
        "    transform=ToTensor()\n",
        ")"
      ],
      "metadata": {
        "colab": {
          "base_uri": "https://localhost:8080/",
          "height": 451,
          "referenced_widgets": [
            "ce4a4db67ecf404fb365e775d883f5de",
            "3b53ddd6094347ddbcf0bd47318f0456",
            "7668f2cedf3647d98f84dc5130ed2948",
            "746cf45fb7314a63839b5f7e8eaa3b21",
            "84f6fb13da8f462c8a08a1126b89c989",
            "06b3752ae1154af79065480d14ec5ff6",
            "35b07050f6004dd695ff5038ca19dacb",
            "2bd32a0487214649a8b8df7886a186ad",
            "12aff528c315476bb46d930839417ae7",
            "d21927394e3040029ec2df007044ce9c",
            "025415338d514eb29fe8db6f4601043a",
            "217ab46b943e4b479e3aa5b255e05016",
            "e116bb52c44b466cba79477de8b99e1d",
            "f979e2cd70f440e5a2841f95f42befa6",
            "b950b74f181b4cf78fcea41bd5a62adc",
            "4bca44fe20544f3cb0d2b8d44d4e25fe",
            "5d4598fae4854f42aae31c4273619a58",
            "2e41ee5c225f4328816229bc2c413a17",
            "98242e75d76543b390714adc9f877383",
            "8863ad86ce1d4379bb09f266f4294200",
            "3d11834e939541a698f00cffa38a1dc9",
            "e3ce99e508a2491f823957ad5200b94a",
            "16ff37d193864b93bf3044c1af0911fa",
            "67042382218e4d20866cf8ee6a805647",
            "00984b961f7842edadc1fc5e7faf2ee8",
            "f2da1a69e5f1491e9ea8701049b6fb06",
            "2ba9933775914569a93b0f64989bc198",
            "83056f60513a457f93a4ddf2d427aa1c",
            "c902740e6f7f4baa91a3557b5fd53632",
            "dc1328fffdd84864942367a3449f9b61",
            "ee2b6827533b43f89e925eb95cadfcc8",
            "37340a5aceff4095b7b7a1feea11d1c0",
            "572dfbb3c83d4581b14aec3250f62323",
            "1f40f964884b4513943e03c6724392af",
            "32957b98c403457c8f2722bba3933657",
            "56ba0d57a2624deb9168d5ccec96ff8b",
            "fb8877ee5bc1442191686f60bdad7993",
            "f488fbadf9ce4e82a39a450583a0bf38",
            "92488bdf857343aabd493cc75eea53c9",
            "48b42c593c624746b9f53aa507b066d3",
            "777ba32dd62847e08e55d61d76223a2c",
            "af1271848dcb4afca0a3b1723b9da184",
            "d606b3201047458f93eb9f9a315b12f1",
            "bc8b0b8eee41452582ff158324fd0123"
          ]
        },
        "id": "2Y8IJODGyI8I",
        "outputId": "16004723-3ef5-403a-e997-70023a7c0e45"
      },
      "execution_count": 2,
      "outputs": [
        {
          "output_type": "stream",
          "name": "stdout",
          "text": [
            "Downloading http://fashion-mnist.s3-website.eu-central-1.amazonaws.com/train-images-idx3-ubyte.gz\n",
            "Downloading http://fashion-mnist.s3-website.eu-central-1.amazonaws.com/train-images-idx3-ubyte.gz to data/FashionMNIST/raw/train-images-idx3-ubyte.gz\n"
          ]
        },
        {
          "output_type": "display_data",
          "data": {
            "text/plain": [
              "  0%|          | 0/26421880 [00:00<?, ?it/s]"
            ],
            "application/vnd.jupyter.widget-view+json": {
              "version_major": 2,
              "version_minor": 0,
              "model_id": "ce4a4db67ecf404fb365e775d883f5de"
            }
          },
          "metadata": {}
        },
        {
          "output_type": "stream",
          "name": "stdout",
          "text": [
            "Extracting data/FashionMNIST/raw/train-images-idx3-ubyte.gz to data/FashionMNIST/raw\n",
            "\n",
            "Downloading http://fashion-mnist.s3-website.eu-central-1.amazonaws.com/train-labels-idx1-ubyte.gz\n",
            "Downloading http://fashion-mnist.s3-website.eu-central-1.amazonaws.com/train-labels-idx1-ubyte.gz to data/FashionMNIST/raw/train-labels-idx1-ubyte.gz\n"
          ]
        },
        {
          "output_type": "display_data",
          "data": {
            "text/plain": [
              "  0%|          | 0/29515 [00:00<?, ?it/s]"
            ],
            "application/vnd.jupyter.widget-view+json": {
              "version_major": 2,
              "version_minor": 0,
              "model_id": "217ab46b943e4b479e3aa5b255e05016"
            }
          },
          "metadata": {}
        },
        {
          "output_type": "stream",
          "name": "stdout",
          "text": [
            "Extracting data/FashionMNIST/raw/train-labels-idx1-ubyte.gz to data/FashionMNIST/raw\n",
            "\n",
            "Downloading http://fashion-mnist.s3-website.eu-central-1.amazonaws.com/t10k-images-idx3-ubyte.gz\n",
            "Downloading http://fashion-mnist.s3-website.eu-central-1.amazonaws.com/t10k-images-idx3-ubyte.gz to data/FashionMNIST/raw/t10k-images-idx3-ubyte.gz\n"
          ]
        },
        {
          "output_type": "display_data",
          "data": {
            "text/plain": [
              "  0%|          | 0/4422102 [00:00<?, ?it/s]"
            ],
            "application/vnd.jupyter.widget-view+json": {
              "version_major": 2,
              "version_minor": 0,
              "model_id": "16ff37d193864b93bf3044c1af0911fa"
            }
          },
          "metadata": {}
        },
        {
          "output_type": "stream",
          "name": "stdout",
          "text": [
            "Extracting data/FashionMNIST/raw/t10k-images-idx3-ubyte.gz to data/FashionMNIST/raw\n",
            "\n",
            "Downloading http://fashion-mnist.s3-website.eu-central-1.amazonaws.com/t10k-labels-idx1-ubyte.gz\n",
            "Downloading http://fashion-mnist.s3-website.eu-central-1.amazonaws.com/t10k-labels-idx1-ubyte.gz to data/FashionMNIST/raw/t10k-labels-idx1-ubyte.gz\n"
          ]
        },
        {
          "output_type": "display_data",
          "data": {
            "text/plain": [
              "  0%|          | 0/5148 [00:00<?, ?it/s]"
            ],
            "application/vnd.jupyter.widget-view+json": {
              "version_major": 2,
              "version_minor": 0,
              "model_id": "1f40f964884b4513943e03c6724392af"
            }
          },
          "metadata": {}
        },
        {
          "output_type": "stream",
          "name": "stdout",
          "text": [
            "Extracting data/FashionMNIST/raw/t10k-labels-idx1-ubyte.gz to data/FashionMNIST/raw\n",
            "\n"
          ]
        }
      ]
    },
    {
      "cell_type": "code",
      "source": [
        "train_dataloader = DataLoader(training_data, batch_size=64)\n",
        "test_dataloader = DataLoader(test_data, batch_size=64)"
      ],
      "metadata": {
        "id": "rywdz1byyj66"
      },
      "execution_count": 4,
      "outputs": []
    },
    {
      "cell_type": "code",
      "source": [
        "class NeuralNetwork(nn.Module):\n",
        "  def __init__(self):\n",
        "    super(NeuralNetwork, self).__init__()\n",
        "    self.flatten = nn.Flatten()\n",
        "    self.linear_relu_stack = nn.Sequential(\n",
        "        nn.Linear(28*28, 512),\n",
        "        nn.ReLU(),\n",
        "        nn.Linear(512,512),\n",
        "        nn.ReLU(),\n",
        "        nn.Linear(512, 10),\n",
        "    )\n",
        "\n",
        "  def forward(self, x):\n",
        "    x = self.flatten(x)\n",
        "    logits = self.linear_relu_stack(x)\n",
        "    return logits\n"
      ],
      "metadata": {
        "id": "yCVOYL2rywNL"
      },
      "execution_count": 34,
      "outputs": []
    },
    {
      "cell_type": "code",
      "source": [
        "model = NeuralNetwork()"
      ],
      "metadata": {
        "id": "DWUr6ZYDz7Tc"
      },
      "execution_count": 35,
      "outputs": []
    },
    {
      "cell_type": "markdown",
      "source": [
        "## 6.2 Hyperparameters\n",
        "\n",
        "Hyperparameters 는 모델 optimization을 제어할 수 있는 adjustable(조정 가능)한 파라미터이다.\n",
        "\n",
        "이 하이퍼파라미터는 모델 학습과 수렴률(convergence rates)에 영향을 줄 수 있다.\n",
        "\n",
        "아래 3가지 파라미터를 정의 해보자.\n",
        "\n",
        "* `Number of Epochs` : 데이터 집합에 대해 반복하는 횟수\n",
        "* `Batch Size` : 파라미터가 업데이트되기 전에 네트워크를 통해 전파되는 **데이터 샘플 수**\n",
        "* `Learing Rate` : 각 배치/에포트에서 모델 매개변수를 업데이트하는 양입니다. 값이 작으면 학습 속도가 느려지는 반면 값이 크면 훈련 중에 예측할 수 없는 동작이 발생할 수 있다."
      ],
      "metadata": {
        "id": "0z2gw_LS0Qmu"
      }
    },
    {
      "cell_type": "code",
      "source": [
        "learning_rate = 1e-3\n",
        "batch_size = 64 # 1 batch에 64개 samples\n",
        "epochs = 5"
      ],
      "metadata": {
        "id": "24SAgFJW0PiQ"
      },
      "execution_count": 20,
      "outputs": []
    },
    {
      "cell_type": "markdown",
      "source": [
        "## 6.3 Optimization Loop\n",
        "\n",
        "하이퍼 파라미터를 설정하면 최적화 루프를 사용하여 모델을 훈련하고 최적화할 수 있다. 최적화 루프의 각 반복은 epohc 라고 불린다.\n",
        "\n",
        "한 `epoch` 은 두 개의 주요 부분으로 구성된다\n",
        "\n",
        "* `Train Loop` : 학습 데이터셋에 대해 반복하고 최적의 매개 변수로 수렴하려고 시도한다.\n",
        "* `Validation/Test Loop` : 모델 성능이 개선되고 있는지를 확인하기 위해 테스트 데이터셋을 반복(iterate)합니다.\n",
        "\n",
        "\n",
        "학습 단계에서 사용되는 몇 가지 개념을 간략하게 숙지해 보겠습니다. \n",
        "\n"
      ],
      "metadata": {
        "id": "o-e5snQs3OGi"
      }
    },
    {
      "cell_type": "markdown",
      "source": [
        "### 6.3.1 loss function\n",
        "\n",
        "`손실 함수(loss function)`는 획득한 결과와 실제 값 사이의 틀린 정도(degree of dissimilarity)를 측정하며, 학습 중에 이 값을 최소화하려고 합니다. \n",
        "\n",
        "주어진 데이터 샘플을 입력으로 계산한 **예측과 정답(label)을 비교**하여 손실(loss)을 계산합니다.\n",
        "\n",
        "<br>\n",
        "\n",
        "일반적인 손실함수에는 회귀 문제(regression task)에 사용하는 [`nn.MSELoss`](https://pytorch.org/docs/stable/generated/torch.nn.MSELoss.html#torch.nn.MSELoss) 평균 제곱 오차((MSE; Mean Square Error))나 분류(classification)에 사용하는 [`nn.NLLLoss` ](https://pytorch.org/docs/stable/generated/torch.nn.NLLLoss.html#torch.nn.NLLLoss)(Negative Log Likelihood), 그리고 `nn.LogSoftmax`와 `nn.NLLLoss`를 합친 [`nn.CrossEntropyLoss`](https://pytorch.org/docs/stable/generated/torch.nn.CrossEntropyLoss.html#torch.nn.CrossEntropyLoss) 등이 있습니다.\n",
        "\n",
        "<br>\n",
        "\n",
        "모델의 출력 logit을 `nn.CrossEntropyLoss`에 전달하여 로짓(logit)을 정규화하고 예측 오류를 계산합니다.\n"
      ],
      "metadata": {
        "id": "r__HoilG5A7P"
      }
    },
    {
      "cell_type": "code",
      "source": [
        "# 손실 함수를 초기화 합니다.\n",
        "loss_fn = nn.CrossEntropyLoss()"
      ],
      "metadata": {
        "id": "UZEyZ3Ly3Kh8"
      },
      "execution_count": 21,
      "outputs": []
    },
    {
      "cell_type": "markdown",
      "source": [
        "## 6.4 Optimizer\n",
        "\n",
        "최적화는 각 학습 단계에서 모델의 오류를 줄이기 위해 모델 매개변수를 조정하는 과정입니다. ***최적화 알고리즘*** 은 이 과정이 수행되는 방식(여기에서는 확률적 경사하강법(SGD; Stochastic Gradient Descent))을 정의합니다. \n",
        "\n",
        "<br>\n",
        "\n",
        "**모든 최적화 절차(logic)**는 `optimizer` 객체에 **캡슐화(encapsulated)**됩니다. 여기서는 `SGD` 옵티마이저를 사용하고 있으며, PyTorch에는 `ADAM`이나 `RMSProp`과 같은 다른 종류의 모델과 데이터에서 더 잘 동작하는 다양한 옵티마이저가 있습니다.\n",
        "\n",
        "<br>\n",
        "\n",
        "학습하려는 모델의 매개변수와 학습률(learning rate) 하이퍼파라미터를 등록하여 옵티마이저를 초기화합니다."
      ],
      "metadata": {
        "id": "e6gJ6lay8Kas"
      }
    },
    {
      "cell_type": "code",
      "source": [
        "optimizer = torch.optim.SGD(model.parameters(), lr=learning_rate)"
      ],
      "metadata": {
        "id": "vuc2vuaY8JRf"
      },
      "execution_count": 36,
      "outputs": []
    },
    {
      "cell_type": "markdown",
      "source": [
        "⛔️ init 변수 오타 -> model.parameters() 생성 x"
      ],
      "metadata": {
        "id": "sb1MPG_dAvhF"
      }
    },
    {
      "cell_type": "markdown",
      "source": [
        "<h3> training loop 에서 최적화는 세단계로 이뤄집니다\n",
        "\n",
        "\n",
        ">1. `optimizer.zero_grad()`를 호출하여 **모델 parameters의 변화도를 재설정**합니다. 기본적으로 **변화도는 더해지기(add up)** 때문에 중복 계산을 막기 위해 **반복할 때마다 명시적으로 0으로 설정**합니다.\n",
        "\n",
        ">2. `loss.backwards()`를 호출하여 **예측 손실(prediction loss)을 역전파**합니다. PyTorch는 ***각 매개변수에 대한 손실의 변화도를 저장***합니다.\n",
        "\n",
        ">3. 변화도를 계산한 뒤에는 `optimizer.step()`을 호출하여 **역전파 단계에서 수집된 변화도로 매개변수를 조정**합니다."
      ],
      "metadata": {
        "id": "kC75mF4fBAR4"
      }
    },
    {
      "cell_type": "markdown",
      "source": [
        "## 6.5 Full Implementation\n",
        "We define train_loop that loops over our optimization code, and test_loop that evaluates the model’s performance against our test data."
      ],
      "metadata": {
        "id": "KGOnhiVkB61Q"
      }
    },
    {
      "cell_type": "code",
      "source": [
        "def train_loop(dataloader, model, loss_fn, optimizer):\n",
        "  size = len(dataloader.dataset)\n",
        "  for batch, (X, y) in enumerate(dataloader):\n",
        "    # Compute prediction and loss\n",
        "    pred = model(X)\n",
        "    loss = loss_fn(pred, y)\n",
        "\n",
        "    # Backpropagation\n",
        "    optimizer.zero_grad()\n",
        "    loss.backward()\n",
        "    optimizer.step()\n",
        "\n",
        "    if batch % 100 == 0:\n",
        "      loss, current = loss.item(), batch * len(X)\n",
        "      print(f\"loss : {loss:>7f} [{current:>5d}/{size:>5d}]\") # display loss & the degree of progress\n",
        "\n",
        "\n",
        "def test_loop(dataloader, model, loss_fn):\n",
        "  size = len(dataloader.dataset)\n",
        "  num_batches = len(dataloader)\n",
        "  test_loss, correct = 0, 0\n",
        "\n",
        "  with torch.no_grad():\n",
        "    for X, y in dataloader:\n",
        "      pred = model(X) # prediction value\n",
        "      test_loss += loss_fn(pred, y).item()\n",
        "      correct += (pred.argmax(1) == y).type(torch.float).sum().item()\n",
        "\n",
        "  test_loss /= num_batches\n",
        "  correct /= size\n",
        "  print(f\"Test Error: \\n Accuracy: {(100*correct):>0.1f}%, Avg loss: {test_loss:>8f} \\n\")"
      ],
      "metadata": {
        "id": "_6TQ9vrm-qVW"
      },
      "execution_count": 37,
      "outputs": []
    },
    {
      "cell_type": "markdown",
      "source": [
        "We initialize the loss function and optimizer, and pass it to train_loop and test_loop. Feel free to increase the number of epochs to track the model’s improving performance."
      ],
      "metadata": {
        "id": "2EIbF1DrDqG9"
      }
    },
    {
      "cell_type": "code",
      "source": [
        "loss_fn = nn.CrossEntropyLoss()\n",
        "optimizer = torch.optim.SGD(model.parameters(), lr=learning_rate)\n",
        "\n",
        "epochs = 10\n",
        "for t in range(epochs):\n",
        "  print(f\"Epoch {t+1}\\n------------------------------\")\n",
        "  train_loop(train_dataloader, model, loss_fn, optimizer)\n",
        "  test_loop(test_dataloader, model, loss_fn)\n",
        "\n",
        "print(\"Done!\")"
      ],
      "metadata": {
        "colab": {
          "base_uri": "https://localhost:8080/"
        },
        "id": "lHyX6P2IDmiT",
        "outputId": "abb10066-f75e-459d-9eec-4010a908645a"
      },
      "execution_count": 38,
      "outputs": [
        {
          "output_type": "stream",
          "name": "stdout",
          "text": [
            "Epoch 1\n",
            "------------------------------\n",
            "loss : 2.318551 [    0/60000]\n",
            "loss : 2.300772 [ 6400/60000]\n",
            "loss : 2.280788 [12800/60000]\n",
            "loss : 2.263073 [19200/60000]\n",
            "loss : 2.252583 [25600/60000]\n",
            "loss : 2.226530 [32000/60000]\n",
            "loss : 2.229961 [38400/60000]\n",
            "loss : 2.206465 [44800/60000]\n",
            "loss : 2.211864 [51200/60000]\n",
            "loss : 2.150726 [57600/60000]\n",
            "Test Error: \n",
            " Accuracy: 39.4%, Avg loss: 2.161573 \n",
            "\n",
            "Epoch 2\n",
            "------------------------------\n",
            "loss : 2.189877 [    0/60000]\n",
            "loss : 2.174411 [ 6400/60000]\n",
            "loss : 2.119974 [12800/60000]\n",
            "loss : 2.125489 [19200/60000]\n",
            "loss : 2.080481 [25600/60000]\n",
            "loss : 2.023562 [32000/60000]\n",
            "loss : 2.054281 [38400/60000]\n",
            "loss : 1.980469 [44800/60000]\n",
            "loss : 2.005359 [51200/60000]\n",
            "loss : 1.903097 [57600/60000]\n",
            "Test Error: \n",
            " Accuracy: 50.9%, Avg loss: 1.912901 \n",
            "\n",
            "Epoch 3\n",
            "------------------------------\n",
            "loss : 1.962109 [    0/60000]\n",
            "loss : 1.928234 [ 6400/60000]\n",
            "loss : 1.817432 [12800/60000]\n",
            "loss : 1.847195 [19200/60000]\n",
            "loss : 1.737925 [25600/60000]\n",
            "loss : 1.684534 [32000/60000]\n",
            "loss : 1.715021 [38400/60000]\n",
            "loss : 1.601589 [44800/60000]\n",
            "loss : 1.650141 [51200/60000]\n",
            "loss : 1.526656 [57600/60000]\n",
            "Test Error: \n",
            " Accuracy: 56.3%, Avg loss: 1.543243 \n",
            "\n",
            "Epoch 4\n",
            "------------------------------\n",
            "loss : 1.620999 [    0/60000]\n",
            "loss : 1.580067 [ 6400/60000]\n",
            "loss : 1.430371 [12800/60000]\n",
            "loss : 1.495645 [19200/60000]\n",
            "loss : 1.375784 [25600/60000]\n",
            "loss : 1.367164 [32000/60000]\n",
            "loss : 1.388267 [38400/60000]\n",
            "loss : 1.291053 [44800/60000]\n",
            "loss : 1.347322 [51200/60000]\n",
            "loss : 1.244743 [57600/60000]\n",
            "Test Error: \n",
            " Accuracy: 61.3%, Avg loss: 1.264464 \n",
            "\n",
            "Epoch 5\n",
            "------------------------------\n",
            "loss : 1.348768 [    0/60000]\n",
            "loss : 1.326744 [ 6400/60000]\n",
            "loss : 1.162353 [12800/60000]\n",
            "loss : 1.263702 [19200/60000]\n",
            "loss : 1.139861 [25600/60000]\n",
            "loss : 1.164326 [32000/60000]\n",
            "loss : 1.190398 [38400/60000]\n",
            "loss : 1.106070 [44800/60000]\n",
            "loss : 1.161915 [51200/60000]\n",
            "loss : 1.084528 [57600/60000]\n",
            "Test Error: \n",
            " Accuracy: 63.8%, Avg loss: 1.095884 \n",
            "\n",
            "Epoch 6\n",
            "------------------------------\n",
            "loss : 1.171040 [    0/60000]\n",
            "loss : 1.171815 [ 6400/60000]\n",
            "loss : 0.992169 [12800/60000]\n",
            "loss : 1.123562 [19200/60000]\n",
            "loss : 0.995132 [25600/60000]\n",
            "loss : 1.030142 [32000/60000]\n",
            "loss : 1.069489 [38400/60000]\n",
            "loss : 0.991145 [44800/60000]\n",
            "loss : 1.043849 [51200/60000]\n",
            "loss : 0.985210 [57600/60000]\n",
            "Test Error: \n",
            " Accuracy: 65.5%, Avg loss: 0.988506 \n",
            "\n",
            "Epoch 7\n",
            "------------------------------\n",
            "loss : 1.050102 [    0/60000]\n",
            "loss : 1.072494 [ 6400/60000]\n",
            "loss : 0.877652 [12800/60000]\n",
            "loss : 1.031196 [19200/60000]\n",
            "loss : 0.903077 [25600/60000]\n",
            "loss : 0.935216 [32000/60000]\n",
            "loss : 0.989331 [38400/60000]\n",
            "loss : 0.916868 [44800/60000]\n",
            "loss : 0.962095 [51200/60000]\n",
            "loss : 0.918706 [57600/60000]\n",
            "Test Error: \n",
            " Accuracy: 67.2%, Avg loss: 0.915337 \n",
            "\n",
            "Epoch 8\n",
            "------------------------------\n",
            "loss : 0.961591 [    0/60000]\n",
            "loss : 1.003775 [ 6400/60000]\n",
            "loss : 0.795648 [12800/60000]\n",
            "loss : 0.966143 [19200/60000]\n",
            "loss : 0.840995 [25600/60000]\n",
            "loss : 0.865055 [32000/60000]\n",
            "loss : 0.932621 [38400/60000]\n",
            "loss : 0.867430 [44800/60000]\n",
            "loss : 0.902702 [51200/60000]\n",
            "loss : 0.870815 [57600/60000]\n",
            "Test Error: \n",
            " Accuracy: 68.2%, Avg loss: 0.862475 \n",
            "\n",
            "Epoch 9\n",
            "------------------------------\n",
            "loss : 0.893376 [    0/60000]\n",
            "loss : 0.952130 [ 6400/60000]\n",
            "loss : 0.733904 [12800/60000]\n",
            "loss : 0.917554 [19200/60000]\n",
            "loss : 0.796620 [25600/60000]\n",
            "loss : 0.811458 [32000/60000]\n",
            "loss : 0.889963 [38400/60000]\n",
            "loss : 0.832994 [44800/60000]\n",
            "loss : 0.858072 [51200/60000]\n",
            "loss : 0.833810 [57600/60000]\n",
            "Test Error: \n",
            " Accuracy: 69.5%, Avg loss: 0.822233 \n",
            "\n",
            "Epoch 10\n",
            "------------------------------\n",
            "loss : 0.838949 [    0/60000]\n",
            "loss : 0.910370 [ 6400/60000]\n",
            "loss : 0.685189 [12800/60000]\n",
            "loss : 0.879686 [19200/60000]\n",
            "loss : 0.763196 [25600/60000]\n",
            "loss : 0.769567 [32000/60000]\n",
            "loss : 0.855694 [38400/60000]\n",
            "loss : 0.807611 [44800/60000]\n",
            "loss : 0.823125 [51200/60000]\n",
            "loss : 0.803810 [57600/60000]\n",
            "Test Error: \n",
            " Accuracy: 70.8%, Avg loss: 0.790095 \n",
            "\n",
            "Done!\n"
          ]
        }
      ]
    },
    {
      "cell_type": "markdown",
      "source": [
        "### 외) Correct 구하는 과정"
      ],
      "metadata": {
        "id": "XKnC9f7-H0GZ"
      }
    },
    {
      "cell_type": "code",
      "source": [
        "for it, (x, y) in enumerate(test_dataloader):\n",
        "  X = x\n",
        "  Y = y\n",
        "  if it == 0:\n",
        "    break\n",
        "\n",
        "with torch.no_grad():\n",
        "  pred = model(X) # prediction value\n",
        "  test_loss = loss_fn(pred, y).item()\n",
        "  correct = (pred.argmax(1) == y).type(torch.float).sum().item()\n",
        "\n",
        "print(correct)"
      ],
      "metadata": {
        "colab": {
          "base_uri": "https://localhost:8080/"
        },
        "id": "hdCs_Dt3GS-Q",
        "outputId": "092c9848-d379-4b96-cc57-c3a878d13328"
      },
      "execution_count": 48,
      "outputs": [
        {
          "output_type": "stream",
          "name": "stdout",
          "text": [
            "42.0\n"
          ]
        }
      ]
    },
    {
      "cell_type": "code",
      "source": [
        "pred.argmax(1) == y"
      ],
      "metadata": {
        "colab": {
          "base_uri": "https://localhost:8080/"
        },
        "id": "muxB2q90HZuL",
        "outputId": "ca2dc357-b053-452d-d7c7-9f29e05c0a6b"
      },
      "execution_count": 49,
      "outputs": [
        {
          "output_type": "execute_result",
          "data": {
            "text/plain": [
              "tensor([ True,  True,  True,  True,  True,  True,  True, False, False,  True,\n",
              "        False,  True,  True,  True,  True,  True,  True, False,  True,  True,\n",
              "        False, False,  True, False,  True, False, False, False,  True,  True,\n",
              "         True,  True,  True,  True,  True,  True,  True, False,  True,  True,\n",
              "        False,  True,  True, False, False, False, False,  True, False,  True,\n",
              "        False, False, False, False, False,  True,  True,  True,  True,  True,\n",
              "         True,  True,  True,  True])"
            ]
          },
          "metadata": {},
          "execution_count": 49
        }
      ]
    },
    {
      "cell_type": "code",
      "source": [
        "# 아래 tensor 를 sum 하면, 1 batch의 correct 수집\n",
        "(pred.argmax(1) == y).type(torch.float)"
      ],
      "metadata": {
        "colab": {
          "base_uri": "https://localhost:8080/"
        },
        "id": "U8vqawLSHgOK",
        "outputId": "4bc69bbd-d392-4083-984f-3e8a64f2378c"
      },
      "execution_count": 50,
      "outputs": [
        {
          "output_type": "execute_result",
          "data": {
            "text/plain": [
              "tensor([1., 1., 1., 1., 1., 1., 1., 0., 0., 1., 0., 1., 1., 1., 1., 1., 1., 0.,\n",
              "        1., 1., 0., 0., 1., 0., 1., 0., 0., 0., 1., 1., 1., 1., 1., 1., 1., 1.,\n",
              "        1., 0., 1., 1., 0., 1., 1., 0., 0., 0., 0., 1., 0., 1., 0., 0., 0., 0.,\n",
              "        0., 1., 1., 1., 1., 1., 1., 1., 1., 1.])"
            ]
          },
          "metadata": {},
          "execution_count": 50
        }
      ]
    },
    {
      "cell_type": "code",
      "source": [
        "# batch size 64와 tensor size가 동일함을 알 수 있다.\n",
        "(pred.argmax(1) == y).type(torch.float).size()"
      ],
      "metadata": {
        "colab": {
          "base_uri": "https://localhost:8080/"
        },
        "id": "x85Jdcj7Kstu",
        "outputId": "8ccfef2f-7cc7-4aa7-f631-f83f10a571e2"
      },
      "execution_count": 54,
      "outputs": [
        {
          "output_type": "execute_result",
          "data": {
            "text/plain": [
              "torch.Size([64])"
            ]
          },
          "metadata": {},
          "execution_count": 54
        }
      ]
    },
    {
      "cell_type": "markdown",
      "source": [
        "위와 같은 방식으로 구한 `누적 correct`를 `len(dataloader.dataset)` 로 나눈 후 100을 곱하면 `Accuracy`를 구할 수 있다."
      ],
      "metadata": {
        "id": "jBhuUon6IBlc"
      }
    }
  ]
}