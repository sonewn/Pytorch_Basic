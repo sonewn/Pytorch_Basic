{
  "nbformat": 4,
  "nbformat_minor": 0,
  "metadata": {
    "colab": {
      "name": "Pytorch_Basic_1_Tensor",
      "provenance": [],
      "authorship_tag": "ABX9TyOk0hgissCdUY8OlLXt/ssR"
    },
    "kernelspec": {
      "name": "python3",
      "display_name": "Python 3"
    },
    "language_info": {
      "name": "python"
    }
  },
  "cells": [
    {
      "cell_type": "code",
      "source": [
        "# anaconda 설치\n",
        "#conda install pytorch torchvision torchaudio -c pytorch\n"
      ],
      "metadata": {
        "id": "ALVDEVpDmKTN"
      },
      "execution_count": null,
      "outputs": []
    },
    {
      "cell_type": "markdown",
      "source": [
        "# 1. Tensor\n",
        "* PyTorch에서는 텐서를 사용하여 모델의 입력(input)과 출력(output), 그리고 모델의 매개변수들을 부호화(encode)합니다.\n",
        "*  NumPy 의 ndarray와 유사\n",
        "* 자동 미분(automatic differentiation)에 최적화\n"
      ],
      "metadata": {
        "id": "QWBaDfOlmuXi"
      }
    },
    {
      "cell_type": "code",
      "source": [
        "import torch\n",
        "import numpy as np"
      ],
      "metadata": {
        "id": "pWpyOAtKnHnQ"
      },
      "execution_count": null,
      "outputs": []
    },
    {
      "cell_type": "code",
      "source": [
        "# 1. Tensor 초기화 =====================================================================================\n",
        "\n",
        "#데이터로 부터 직접(directly) 초기화\n",
        "# --> 데이터 자료형은 자동으로 유추합니다.\n",
        "\n",
        "data = [[1,2],[3,4]]\n",
        "x_data = torch.tensor(data)\n",
        "x_data"
      ],
      "metadata": {
        "colab": {
          "base_uri": "https://localhost:8080/"
        },
        "id": "N4YyWQR7nNYO",
        "outputId": "2607c713-ec1c-490b-a9d9-1c22760e7313"
      },
      "execution_count": null,
      "outputs": [
        {
          "output_type": "execute_result",
          "data": {
            "text/plain": [
              "tensor([[1, 2],\n",
              "        [3, 4]])"
            ]
          },
          "metadata": {},
          "execution_count": 2
        }
      ]
    },
    {
      "cell_type": "code",
      "source": [
        "#numpy 배열로 부터 생성\n",
        "np_array = np.array(data)\n",
        "x_np = torch.from_numpy(np_array)\n",
        "x_np"
      ],
      "metadata": {
        "colab": {
          "base_uri": "https://localhost:8080/"
        },
        "id": "BvtaD6fpn5wb",
        "outputId": "0f5f1532-e84e-42bd-a6d8-508b9f2097b1"
      },
      "execution_count": null,
      "outputs": [
        {
          "output_type": "execute_result",
          "data": {
            "text/plain": [
              "tensor([[1, 2],\n",
              "        [3, 4]])"
            ]
          },
          "metadata": {},
          "execution_count": 4
        }
      ]
    },
    {
      "cell_type": "code",
      "source": [
        "#텐서 속성 --> override 하지 않으면, 그대로 유지\n",
        "\n",
        "x_ones = torch.ones_like(x_data) # -> x_data 속성을 유지\n",
        "print(f'Ones Tensor:\\n {x_ones} \\n')\n",
        "\n",
        "x_rand = torch.rand_like(x_data, dtype=torch.float) # -> x_data 속성을 뒤집어씀\n",
        "print(f'Rand Tensor:\\n {x_rand} \\n')"
      ],
      "metadata": {
        "colab": {
          "base_uri": "https://localhost:8080/"
        },
        "id": "BBJWVBynoXbu",
        "outputId": "1cf21004-bea3-4398-a59b-3ccfe6401a45"
      },
      "execution_count": null,
      "outputs": [
        {
          "output_type": "stream",
          "name": "stdout",
          "text": [
            "Ones Tensor:\n",
            " tensor([[1, 1],\n",
            "        [1, 1]]) \n",
            "\n",
            "Rand Tensor:\n",
            " tensor([[0.5492, 0.3294],\n",
            "        [0.1230, 0.3479]]) \n",
            "\n"
          ]
        }
      ]
    },
    {
      "cell_type": "code",
      "source": [
        "#random or constant 값 사용하기\n",
        "shape = (2,3,)  # -> tensor 의 속성을 나타내는 tuple\n",
        "rand_tensor = torch.rand(shape)\n",
        "ones_tensor = torch.ones(shape)\n",
        "zeros_tensor = torch.zeros(shape)\n",
        "\n",
        "print(f\"Random Tensor: \\n {rand_tensor} \\n\")\n",
        "print(f\"Ones Tensor: \\n {ones_tensor} \\n\")\n",
        "print(f\"Zeros Tensor: \\n {zeros_tensor} \\n\")"
      ],
      "metadata": {
        "colab": {
          "base_uri": "https://localhost:8080/"
        },
        "id": "YbAOd_oNqogs",
        "outputId": "9acdc310-9462-4d7f-f2ab-2299245125f1"
      },
      "execution_count": null,
      "outputs": [
        {
          "output_type": "stream",
          "name": "stdout",
          "text": [
            "Random Tensor: \n",
            " tensor([[0.7903, 0.4238, 0.6748],\n",
            "        [0.7263, 0.9806, 0.0449]]) \n",
            "\n",
            "Ones Tensor: \n",
            " tensor([[1., 1., 1.],\n",
            "        [1., 1., 1.]]) \n",
            "\n",
            "Zeros Tensor: \n",
            " tensor([[0., 0., 0.],\n",
            "        [0., 0., 0.]]) \n",
            "\n"
          ]
        }
      ]
    },
    {
      "cell_type": "code",
      "source": [
        "# 2. tensor의 Attribute =====================================================================================\n",
        "\n",
        "tensor = torch.rand(3,4)\n",
        "\n",
        "print(f\"Shape of tensor: {tensor.shape}\")\n",
        "print(f\"Datatype of tensor: {tensor.dtype}\")\n",
        "print(f\"Device tensor is stored on: {tensor.device}\")"
      ],
      "metadata": {
        "colab": {
          "base_uri": "https://localhost:8080/"
        },
        "id": "2dctQ48_sPvj",
        "outputId": "c42978e0-801d-4fb1-8fe7-264437161fc8"
      },
      "execution_count": null,
      "outputs": [
        {
          "output_type": "stream",
          "name": "stdout",
          "text": [
            "Shape of tensor: torch.Size([3, 4])\n",
            "Datatype of tensor: torch.float32\n",
            "Device tensor is stored on: cpu\n"
          ]
        }
      ]
    },
    {
      "cell_type": "code",
      "source": [
        "# 3. tensor 연산 =====================================================================================\n",
        "\n",
        "# 기본적으로 텐서는 CPU에 생성됩니다. \n",
        "# .to 메소드를 사용하면 (GPU의 가용성(availability)을 확인한 뒤) GPU로 텐서를 명시적으로 이동할 수 있습니다. \n",
        "# 장치들 간에 큰 텐서들을 복사하는 것은 시간과 메모리 측면에서 비용이 많이든다는 것을 기억하세요!\n",
        "\n",
        "\n",
        "# GPU 가 존재하면 텐서를 이동합니다.\n",
        "if torch.cuda.is_available():\n",
        "    tensor = tensor.to('cuda')\n",
        "\n",
        "# 표준 인덱싱과 슬라이싱\n",
        "tensor = torch.ones(4,4)\n",
        "print('First row: \\n', tensor[0])\n",
        "print('\\n First column: \\n', tensor[:, 0])\n",
        "print('\\n Last column: \\n', tensor[..., -1])\n",
        "tensor[:,1] = 0\n",
        "print('\\n', tensor)\n",
        "print('\\n', tensor.device) # colab에서는 런타임을 통해 기기 변경"
      ],
      "metadata": {
        "colab": {
          "base_uri": "https://localhost:8080/"
        },
        "id": "nfVQcdTutHR0",
        "outputId": "2811c1dc-1630-4d6b-8219-0b336206fb02"
      },
      "execution_count": null,
      "outputs": [
        {
          "output_type": "stream",
          "name": "stdout",
          "text": [
            "First row: \n",
            " tensor([1., 1., 1., 1.])\n",
            "\n",
            " First column: \n",
            " tensor([1., 1., 1., 1.])\n",
            "\n",
            " Last column: \n",
            " tensor([1., 1., 1., 1.])\n",
            "\n",
            " tensor([[1., 0., 1., 1.],\n",
            "        [1., 0., 1., 1.],\n",
            "        [1., 0., 1., 1.],\n",
            "        [1., 0., 1., 1.]])\n",
            "\n",
            " cpu\n"
          ]
        }
      ]
    },
    {
      "cell_type": "markdown",
      "source": [
        "<h3> cat"
      ],
      "metadata": {
        "id": "mDSUGC6lgwI8"
      }
    },
    {
      "cell_type": "code",
      "source": [
        "# 주어진 차원에 따라 일련의 텐서 연결\n",
        "# -- torch.cat 과 미묘하게 다른 또 다른 텐서 결합 연산인 torch.stack 도 참고해보세요.\n",
        "print(f'torch is \\n {tensor} \\n')\n",
        "t1 = torch.cat([tensor, tensor, tensor], dim=1) # -> 열 증가, dim=0은 행 증가\n",
        "print(t1)"
      ],
      "metadata": {
        "colab": {
          "base_uri": "https://localhost:8080/"
        },
        "id": "V84YKib6vqpb",
        "outputId": "d560ab04-f013-451b-f39d-ff9801e8558d"
      },
      "execution_count": null,
      "outputs": [
        {
          "output_type": "stream",
          "name": "stdout",
          "text": [
            "torch is \n",
            " tensor([[1., 0., 1., 1.],\n",
            "        [1., 0., 1., 1.],\n",
            "        [1., 0., 1., 1.],\n",
            "        [1., 0., 1., 1.]]) \n",
            "\n",
            "tensor([[1., 0., 1., 1., 1., 0., 1., 1., 1., 0., 1., 1.],\n",
            "        [1., 0., 1., 1., 1., 0., 1., 1., 1., 0., 1., 1.],\n",
            "        [1., 0., 1., 1., 1., 0., 1., 1., 1., 0., 1., 1.],\n",
            "        [1., 0., 1., 1., 1., 0., 1., 1., 1., 0., 1., 1.]])\n"
          ]
        }
      ]
    },
    {
      "cell_type": "markdown",
      "source": [
        "<h3> stack"
      ],
      "metadata": {
        "id": "tZx01cIYg1tB"
      }
    },
    {
      "cell_type": "code",
      "source": [
        "t2 = torch.stack([tensor, tensor, tensor], dim=1) # -> y축으로 tensor 2개를 더 stack / tensor를 (x,z)로 본다\n",
        "print(t2)\n",
        "print(' \\n =============================== \\n')\n",
        "t3 = torch.stack([tensor, tensor, tensor], dim=0) # -> z축으로 tensor 2개를 더 stack / tensor를 (x,y)로 본다\n",
        "print(t3)"
      ],
      "metadata": {
        "colab": {
          "base_uri": "https://localhost:8080/"
        },
        "id": "iQ3U8UW5xFHj",
        "outputId": "8fbb1a12-830b-4464-c062-e9bee4b7fa64"
      },
      "execution_count": null,
      "outputs": [
        {
          "output_type": "stream",
          "name": "stdout",
          "text": [
            "tensor([[[1., 0., 1., 1.],\n",
            "         [1., 0., 1., 1.],\n",
            "         [1., 0., 1., 1.]],\n",
            "\n",
            "        [[1., 0., 1., 1.],\n",
            "         [1., 0., 1., 1.],\n",
            "         [1., 0., 1., 1.]],\n",
            "\n",
            "        [[1., 0., 1., 1.],\n",
            "         [1., 0., 1., 1.],\n",
            "         [1., 0., 1., 1.]],\n",
            "\n",
            "        [[1., 0., 1., 1.],\n",
            "         [1., 0., 1., 1.],\n",
            "         [1., 0., 1., 1.]]])\n",
            "===============================\n",
            "tensor([[[1., 0., 1., 1.],\n",
            "         [1., 0., 1., 1.],\n",
            "         [1., 0., 1., 1.],\n",
            "         [1., 0., 1., 1.]],\n",
            "\n",
            "        [[1., 0., 1., 1.],\n",
            "         [1., 0., 1., 1.],\n",
            "         [1., 0., 1., 1.],\n",
            "         [1., 0., 1., 1.]],\n",
            "\n",
            "        [[1., 0., 1., 1.],\n",
            "         [1., 0., 1., 1.],\n",
            "         [1., 0., 1., 1.],\n",
            "         [1., 0., 1., 1.]]])\n"
          ]
        }
      ]
    },
    {
      "cell_type": "markdown",
      "source": [
        "<h3> 산술연산(Arithmetic operations)"
      ],
      "metadata": {
        "id": "9Lh3uAcahLUq"
      }
    },
    {
      "cell_type": "code",
      "source": [
        "#산술 연산(Arithmetic operations)\n",
        "\n",
        "# 두 텐서 간의 행렬 곱(matrix multiplication)을 계산합니다. y1, y2, y3은 모두 같은 값을 갖습니다.\n",
        "y1 = tensor @ tensor.T\n",
        "print(y1, '\\n')\n",
        "\n",
        "y2 = tensor.matmul(tensor.T)\n",
        "print(y2, '\\n')\n",
        "\n",
        "y3 = torch.rand_like(tensor)\n",
        "torch.matmul(tensor, tensor.T, out = y3)\n",
        "print(y3, '\\n')\n",
        "\n"
      ],
      "metadata": {
        "colab": {
          "base_uri": "https://localhost:8080/"
        },
        "id": "_FvvdNI8xfJT",
        "outputId": "67835077-69ef-4dc3-e9ba-8804f6eff546"
      },
      "execution_count": null,
      "outputs": [
        {
          "output_type": "stream",
          "name": "stdout",
          "text": [
            "tensor([[3., 3., 3., 3.],\n",
            "        [3., 3., 3., 3.],\n",
            "        [3., 3., 3., 3.],\n",
            "        [3., 3., 3., 3.]]) \n",
            "\n",
            "tensor([[3., 3., 3., 3.],\n",
            "        [3., 3., 3., 3.],\n",
            "        [3., 3., 3., 3.],\n",
            "        [3., 3., 3., 3.]]) \n",
            "\n",
            "tensor([[3., 3., 3., 3.],\n",
            "        [3., 3., 3., 3.],\n",
            "        [3., 3., 3., 3.],\n",
            "        [3., 3., 3., 3.]]) \n",
            "\n"
          ]
        }
      ]
    },
    {
      "cell_type": "code",
      "source": [
        "# 요소별 곱(element-wise product)을 계산합니다. z1, z2, z3는 모두 같은 값을 갖습니다.\n",
        "print(tensor, '\\n')\n",
        "\n",
        "z1 = tensor * tensor\n",
        "print('\\n', z1)\n",
        "\n",
        "z2 = tensor.mul(tensor)\n",
        "print('\\n', z2)\n",
        "\n",
        "z3 = torch.rand_like(tensor)\n",
        "torch.mul(tensor, tensor, out=z3)\n",
        "print('\\n', z3)"
      ],
      "metadata": {
        "colab": {
          "base_uri": "https://localhost:8080/"
        },
        "id": "iiHXBRsjibV5",
        "outputId": "5d25430a-b212-4f5b-84b5-bf8b1e211906"
      },
      "execution_count": null,
      "outputs": [
        {
          "output_type": "stream",
          "name": "stdout",
          "text": [
            "tensor([[1., 0., 1., 1.],\n",
            "        [1., 0., 1., 1.],\n",
            "        [1., 0., 1., 1.],\n",
            "        [1., 0., 1., 1.]]) \n",
            "\n",
            "\n",
            " tensor([[1., 0., 1., 1.],\n",
            "        [1., 0., 1., 1.],\n",
            "        [1., 0., 1., 1.],\n",
            "        [1., 0., 1., 1.]])\n",
            "\n",
            " tensor([[1., 0., 1., 1.],\n",
            "        [1., 0., 1., 1.],\n",
            "        [1., 0., 1., 1.],\n",
            "        [1., 0., 1., 1.]])\n",
            "\n",
            " tensor([[1., 0., 1., 1.],\n",
            "        [1., 0., 1., 1.],\n",
            "        [1., 0., 1., 1.],\n",
            "        [1., 0., 1., 1.]])\n"
          ]
        }
      ]
    },
    {
      "cell_type": "code",
      "source": [
        "# 단일-요소(single-element) 텐서의 모든 값을 하나로 집계(aggregate)하여\n",
        "# 요소가 하나인 텐서의 경우, item() 을 사용하여 Python 숫자 값으로 변환할 수 있습니다.\n",
        "\n",
        "agg = tensor.sum()\n",
        "agg_item = agg.item()\n",
        "print(agg_item, type(agg_item))"
      ],
      "metadata": {
        "colab": {
          "base_uri": "https://localhost:8080/"
        },
        "id": "Mz5dcSS5i6Gi",
        "outputId": "6d56e2ae-7f8e-4355-99f2-626caf3016f6"
      },
      "execution_count": null,
      "outputs": [
        {
          "output_type": "stream",
          "name": "stdout",
          "text": [
            "12.0 <class 'float'>\n"
          ]
        }
      ]
    },
    {
      "cell_type": "code",
      "source": [
        "# 바꿔치기(in-place) 연산 : 연산 결과를 피연산자(operand)에 저장하는 연산을 바꿔치기 연산이라고 부르며, _ 접미사를 갖습니다. \n",
        "# 예를 들어: x.copy_(y) 나 x.t_() 는 x 를 변경합니다.\n",
        "\n",
        "print(tensor, \"\\n\")\n",
        "tensor.add_(5)\n",
        "print(tensor)\n",
        "\n",
        "# 바꿔치기 연산은 메모리를 일부 절약하지만, 기록(history)이 즉시 삭제되어 도함수(derivative) 계산에 문제가 발생할 수 있습니다. 따라서, 사용을 권장하지 않습니다."
      ],
      "metadata": {
        "colab": {
          "base_uri": "https://localhost:8080/"
        },
        "id": "Cc5ce1uOjekk",
        "outputId": "a70255fd-0b32-4a92-cae2-23ef5d133659"
      },
      "execution_count": null,
      "outputs": [
        {
          "output_type": "stream",
          "name": "stdout",
          "text": [
            "tensor([[1., 0., 1., 1.],\n",
            "        [1., 0., 1., 1.],\n",
            "        [1., 0., 1., 1.],\n",
            "        [1., 0., 1., 1.]]) \n",
            "\n",
            "tensor([[6., 5., 6., 6.],\n",
            "        [6., 5., 6., 6.],\n",
            "        [6., 5., 6., 6.],\n",
            "        [6., 5., 6., 6.]])\n"
          ]
        }
      ]
    },
    {
      "cell_type": "markdown",
      "source": [
        "<h3> Numpy 변환 (Bridge)\n",
        "\n",
        "* CPU 상의 텐서와 NumPy 배열은 메모리 공간을 공유하기 때문에, **하나를 변경하면 다른 하나도 변경됩니다.** ⭐\n"
      ],
      "metadata": {
        "id": "r_AHfoyrj4TR"
      }
    },
    {
      "cell_type": "code",
      "source": [
        "t = torch.ones(5)\n",
        "print(f\"t: {t}\")\n",
        "n = t.numpy()\n",
        "print(f\"n: {n}\")"
      ],
      "metadata": {
        "id": "SpZgst3ij-Em"
      },
      "execution_count": null,
      "outputs": []
    },
    {
      "cell_type": "code",
      "source": [
        "# 텐서 -> numpy\n",
        "t = torch.ones(5)\n",
        "print(f\"t: {t}\")\n",
        "\n",
        "n = t.numpy()\n",
        "print(f\"n: {n}\")"
      ],
      "metadata": {
        "colab": {
          "base_uri": "https://localhost:8080/"
        },
        "id": "2a1Mja5Rkqqc",
        "outputId": "2a9d5701-5c9c-442d-adb3-67b5409991f6"
      },
      "execution_count": null,
      "outputs": [
        {
          "output_type": "stream",
          "name": "stdout",
          "text": [
            "t: tensor([1., 1., 1., 1., 1.])\n",
            "n: [1. 1. 1. 1. 1.]\n"
          ]
        }
      ]
    },
    {
      "cell_type": "code",
      "source": [
        "# 텐서를 변경하면, numpy도 변경된다!\n",
        "t.add_(1)\n",
        "print(f\"t: {t}\")\n",
        "print(f\"n: {n}\")"
      ],
      "metadata": {
        "colab": {
          "base_uri": "https://localhost:8080/"
        },
        "id": "GzomkK6ok_5h",
        "outputId": "ccf8855f-1767-4e4a-ad68-721c4586e288"
      },
      "execution_count": null,
      "outputs": [
        {
          "output_type": "stream",
          "name": "stdout",
          "text": [
            "t: tensor([2., 2., 2., 2., 2.])\n",
            "n: [2. 2. 2. 2. 2.]\n"
          ]
        }
      ]
    },
    {
      "cell_type": "code",
      "source": [
        "# numpy -> 텐서\n",
        "n = np.ones(5)\n",
        "t = torch.from_numpy(n)\n",
        "print('t: ', t)"
      ],
      "metadata": {
        "colab": {
          "base_uri": "https://localhost:8080/"
        },
        "id": "JgQgsQxOklwr",
        "outputId": "7a261f98-8b24-409e-e74a-1c2d0c90bf82"
      },
      "execution_count": null,
      "outputs": [
        {
          "output_type": "stream",
          "name": "stdout",
          "text": [
            "t:  tensor([1., 1., 1., 1., 1.], dtype=torch.float64)\n"
          ]
        }
      ]
    },
    {
      "cell_type": "code",
      "source": [
        "# NumPy 배열의 변경 사항이 텐서에 반영!\n",
        "np.add(n, 1, out=n)\n",
        "print(f't: {t}')\n",
        "print(f'n: {n}')"
      ],
      "metadata": {
        "colab": {
          "base_uri": "https://localhost:8080/"
        },
        "id": "lrbrKbZrkopL",
        "outputId": "5a131df4-c214-4e6c-e738-ae45e4ea5cc9"
      },
      "execution_count": null,
      "outputs": [
        {
          "output_type": "stream",
          "name": "stdout",
          "text": [
            "t: tensor([3., 3., 3., 3., 3.], dtype=torch.float64)\n",
            "n: [3. 3. 3. 3. 3.]\n"
          ]
        }
      ]
    }
  ]
}